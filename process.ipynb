{
 "cells": [
  {
   "cell_type": "markdown",
   "metadata": {},
   "source": [
    "# Project Prototype: Agentic RAG System with Nursing Handbooks and Transes as Knowledge Base"
   ]
  },
  {
   "cell_type": "markdown",
   "metadata": {},
   "source": [
    "The goal of this project is to create an **Agentic RAG-based system** that helps nursing students retrieve relevant information from nursing handbooks and their personal study notes. This system will augment the responses with context from the personal notes, making it more personalized and adaptive to the user's learning."
   ]
  },
  {
   "cell_type": "markdown",
   "metadata": {},
   "source": [
    "## Flow Overview\n",
    "\n",
    "The project involves two primary stages:\n",
    "1. **Prepopulating the Vector DB** (embedding the nursing handbooks and personal notes into a database)\n",
    "2. **RAG Modeling** (retrieving relevant information and augmenting responses using both the handbooks and personal notes)\n",
    "\n",
    "Additionally, there will be an **Agentic Layer** that intelligently routes queries to the appropriate source (nursing handbooks or personal study notes)."
   ]
  },
  {
   "cell_type": "markdown",
   "metadata": {},
   "source": [
    "### Technologies to use\n",
    "\n",
    "- **Docling**: For parsing the nursing handbooks and personal notes\n",
    "- **OpenAI Embedding Model (large)**: For embedding both nursing handbooks and personal study notes.\n",
    "- **ChromaDB**: For storing and querying the embeddings.\n",
    "- **Deepseek LLM**: For augmenting responses based on the retrieved content.\n",
    "- **Pydantic AI**: For AI agent intelligently routing queries between the nursing handbooks and personal notes. \n",
    "- **Pydantic**: For type safety and data validation.\n",
    "- **FastAPI**: For building the API.\n",
    "- **Docker**: For containerization and deployment.\n",
    "- **Pydantic Graphs**: For workflow pipelines"
   ]
  },
  {
   "cell_type": "markdown",
   "metadata": {},
   "source": [
    "## Initialization"
   ]
  },
  {
   "cell_type": "code",
   "execution_count": 91,
   "metadata": {},
   "outputs": [],
   "source": [
    "import os\n",
    "import joblib\n",
    "import chromadb\n",
    "from pathlib import Path\n",
    "from docling.document_converter import DocumentConverter\n",
    "import chromadb.utils.embedding_functions as embedding_functions\n",
    "from docling.chunking import HybridChunker\n",
    "\n",
    "from dotenv import load_dotenv\n",
    "\n",
    "load_dotenv()\n",
    "knowledge_base_raw_path = './data/knowledge-base/raw/'\n",
    "knowledge_base_pickled_path = './data/knowledge-base/pickled/'"
   ]
  },
  {
   "cell_type": "markdown",
   "metadata": {},
   "source": [
    "### Stage 1: Prepopulate the Vector DB\n",
    "\n",
    "In this stage, we process nursing handbooks and personal study notes, embedding them into a vector database for efficient retrieval during RAG modeling.\n",
    "\n",
    "#### Steps:\n",
    "\n",
    "1. **Upload Nursing Handbooks**:\n",
    "   - Upload nursing handbooks in popular formats like PDF or DOCX.\n",
    "   - These documents may include textbooks on topics like **medical-surgical nursing, pharmacology, pediatric nursing**, and other specialized nursing areas.\n",
    "\n",
    "2. **Parsing the documents and retaining the page metadata**:\n",
    "   - Use **Docling** to convert nursing handbooks and personal notes docling document.\n",
    "   - The conversion ensures that the pdf metadata are preserved, making it easier for the AI to process.\n",
    "\n",
    "3. **Generate Embeddings**:\n",
    "   - Use **OpenAI's large embedding model** to convert the nursing handbooks and personal notes into embeddings. These embeddings will capture the semantic meaning of each section, allowing for efficient similarity-based searches.\n",
    "   - Both the nursing handbooks and the personal study notes will be embedded into the vector database.\n",
    "\n",
    "4. **Save to Vector DB (ChromaDB)**:\n",
    "   - Store the generated embeddings in **ChromaDB** for fast retrieval during RAG modeling.\n",
    "   - The vector database will allow the system to quickly access the most relevant information when a query is made.\n",
    "\n",
    "**Note**: Converting and embedding long documents like nursing handbooks may take some time (e.g., **15-30 minutes** per document).\n",
    "\n"
   ]
  },
  {
   "cell_type": "code",
   "execution_count": 2,
   "metadata": {},
   "outputs": [
    {
     "data": {
      "text/plain": [
       "['Handbook of Clinical Nursing_ Medical-Surgical Nursing -- Joyce Fitzpatrick -- 2018 -- Springer Publishing Company -- 9780826130785 -- 26f2533f396508e653d45e0e76aadc53 -- Anna’s Archive.pdf',\n",
       " 'NRG 304 LEC_ WEEK 2_CHAPTER 1 ASSESSMENT OF THE DIGESTIVE AND GASTROINTESTINAL FUNCTION.pdf']"
      ]
     },
     "execution_count": 2,
     "metadata": {},
     "output_type": "execute_result"
    }
   ],
   "source": [
    "# List the raw files to convert\n",
    "os.listdir(knowledge_base_raw_path)"
   ]
  },
  {
   "cell_type": "code",
   "execution_count": 90,
   "metadata": {},
   "outputs": [
    {
     "name": "stdout",
     "output_type": "stream",
     "text": [
      "Pickling file: `Handbook of Clinical Nursing_ Medical-Surgical Nursing -- Joyce Fitzpatrick -- 2018 -- Springer P`...\n",
      "Pickling file: `NRG 304 LEC_ WEEK 2_CHAPTER 1 ASSESSMENT OF THE DIGESTIVE AND GASTROINTESTINAL FUNCTION.pdf`...\n"
     ]
    }
   ],
   "source": [
    "document_converter = DocumentConverter()\n",
    "\n",
    "knowledge_base_raw_files = os.listdir(knowledge_base_raw_path)\n",
    "knowledge_base_pickled_files = os.listdir(knowledge_base_pickled_path)\n",
    "\n",
    "for file in knowledge_base_raw_files:\n",
    "\tfile_path = os.path.join(knowledge_base_raw_path, file)\n",
    "\tfile_name = os.path.splitext(file)[0]\n",
    "\n",
    "\t# Check if not file \n",
    "\tif not os.path.isfile(file_path):\n",
    "\t\tcontinue\n",
    "\n",
    "\t# Check if file is already pickled\n",
    "\tif f\"{file_name}.docling\" in knowledge_base_pickled_files:\n",
    "\t\tprint(f\"File `{file[:97]}`... is already pickled.\")\n",
    "\t\tcontinue\n",
    "\n",
    "\t# Pickling the document to retain the metadata (there is currently no way to get the paging metadata from exported md)\n",
    "\tprint(f\"Pickling file: `{file[:97]}`...\")\n",
    "\tconversion_result = document_converter.convert(file_path)\n",
    "\t\n",
    "\tjoblib.dump(\n",
    "\t\tconversion_result.document, \n",
    "\t\tos.path.join(knowledge_base_pickled_path, f\"{file_name}.docling\"),\n",
    "\t\tcompress=3\n",
    "\t)"
   ]
  },
  {
   "cell_type": "markdown",
   "metadata": {},
   "source": [
    "#### Create the collections"
   ]
  },
  {
   "cell_type": "code",
   "execution_count": 5,
   "metadata": {},
   "outputs": [],
   "source": [
    "chroma_client = chromadb.HttpClient(host=\"localhost\", port=\"8001\")"
   ]
  },
  {
   "cell_type": "markdown",
   "metadata": {},
   "source": [
    "Using the OpenAI text-embedding-3-small model"
   ]
  },
  {
   "cell_type": "code",
   "execution_count": 6,
   "metadata": {},
   "outputs": [],
   "source": [
    "embed_fn_openai = embedding_functions.OpenAIEmbeddingFunction(\n",
    "\tapi_key=os.getenv(\"OPENAI_API_KEY\"),\n",
    "\tmodel_name=os.getenv(\"OPENAI_MODEL_MODEL\"),\n",
    ")"
   ]
  },
  {
   "cell_type": "markdown",
   "metadata": {},
   "source": [
    "Creating the collections"
   ]
  },
  {
   "cell_type": "code",
   "execution_count": 10,
   "metadata": {},
   "outputs": [
    {
     "data": {
      "text/plain": [
       "Collection(name=base_documents)"
      ]
     },
     "execution_count": 10,
     "metadata": {},
     "output_type": "execute_result"
    }
   ],
   "source": [
    "chroma_client.get_or_create_collection(name=\"base_documents\", embedding_function=embed_fn_openai)"
   ]
  },
  {
   "cell_type": "markdown",
   "metadata": {},
   "source": [
    "Chunking the document the NRG 304 document as test"
   ]
  },
  {
   "cell_type": "code",
   "execution_count": 95,
   "metadata": {},
   "outputs": [],
   "source": [
    "document = joblib.load(os.path.join(\n",
    "\tknowledge_base_pickled_path, \n",
    "\t\"NRG 304 LEC_ WEEK 2_CHAPTER 1 ASSESSMENT OF THE DIGESTIVE AND GASTROINTESTINAL FUNCTION.docling\"\n",
    "))"
   ]
  },
  {
   "cell_type": "code",
   "execution_count": 175,
   "metadata": {},
   "outputs": [
    {
     "name": "stdout",
     "output_type": "stream",
     "text": [
      "=== 0 ===\n",
      "page: 1\n",
      "chunker.serialize(chunk):\n",
      "'BRIEF REVIEW OF THE ANATOMY OF GIT\\nOral Cavity and Pharynx  ●  Injury/ loss or decay of teeth  ●  Atrophy of taste buds  ●  ↓ Saliva production  ●  Reduced ptyalin and amylase in saliva, Age-Related Changes in the Gastrointestinal System.Implications = Difficulty chewing and  swallowing. ●  ↓ Motility and emptying  ●  Weakened gag reflex  ●  ↓ Resting pressure of lower esophageal  sphincter  Stomach, Age-Related Changes in the Gastrointestinal System.Implications = Reflux and heartburn. ●  Degeneration and atrophy of gastric  HCl  ●, Age-Related Changes in the Gastrointestinal System.Implications = mucosal surfaces with ↓ production of  ↓ Secretion of gastric acids and most  Food intolerances,  malabsorption, or ↓ vitamin  B12 absorption…'\n",
      "chunk len: 747\n",
      "=== 1 ===\n",
      "page: 1\n",
      "chunker.serialize(chunk):\n",
      "'ASSESSMENT OF THE GI SYSTEM\\nFIGURE 43-2:Common site of referred abdominal pain.…'\n",
      "chunk len: 79\n",
      "=== 2 ===\n",
      "page: 1\n",
      "chunker.serialize(chunk):\n",
      "'Common Symptoms\\n1. Pain -character, duration, pattern, frequency,  location, distribution  of  referred  abdominal  pain,  onset  of  pain.  Other factors: meals, rest, activity, and defecation patterns\\n2. Dyspepsia -  refers  to  a  host  of  upper  abdominal  or  epigastric symptoms  such  as  pain,  discomfort,  fullness,  bloating,  early satiety, belching, heartburn, or regurgitation.\\n3. Intestinal  Gas -  accumulation  of  gas  in  the  GI  may  result  in belching or flatulence.\\n4. Nausea  and  Vomiting -visceral  afferent  stimulation,  CNS disorders,  irritation  of  the  chemoreceptor  trigger  zone  from radiation  therapy,  systemic  disorders,  and  endogenous  and exogenous toxins.…'\n",
      "chunk len: 704\n",
      "=== 3 ===\n",
      "page: 1\n",
      "chunker.serialize(chunk):\n",
      "'5. Changes in Bowel Habits and Stool Characteristics\\na. Bulky  greasy,  foamy  stools  that  are  foul  in  odor  and may or may not float.\\nb. Light-gray or clay-colored stool, caused  by  a decrease or absence of conjugated bilirubin.\\nc. Stool with mucus threads or pus that may be visible on gross inspection of the stool.\\nd. Small,  dry,  rock-hard  masses  occasionally  streaked with blood.\\ne. Loose, watery stool that may or may not be streaked with blood.…'\n",
      "chunk len: 462\n",
      "=== 4 ===\n",
      "page: 1\n",
      "chunker.serialize(chunk):\n",
      "\"Past Health, Family, and Social History\\n● Patient's normal toothbrushing and flossing routine\\n● Frequency of dental visits\\n● Awareness of any lesions or irritated areas in the mouth, tongue, or throat\\n● Recent history of sore throat or bloody sputum\\n● Discomfort caused by certain foods\\n● Daily food intake\\n● The  use  of  alcohol  and  tobacco,  including smokeless chewing tobacco\\n● The need to wear dentures or a partial plate…\"\n",
      "chunk len: 429\n",
      "=== 5 ===\n",
      "page: 1\n",
      "chunker.serialize(chunk):\n",
      "'Oral Cavity Inspection\\n1. Lips -  inspection for moisture, hydration, color, texture, symmetry, and the presence of ulcerations or fissures.\\n2. Gums -inspect  for  inflammation,  bleeding,  retraction,  and discoloration. Hard palate is examined for color and shape.…'\n",
      "chunk len: 266\n",
      "=== 6 ===\n",
      "page: 1\n",
      "chunker.serialize(chunk):\n",
      "\"3. Tongue\\na. Inspect  dorsum  of  tongue  for  texture,  color,  and lesions.\\nb. Vallate  papillae  in  a  'V'  formation  on  the  distal portion  of  the  dorsum  of  the  tongue  are  normal findings.\\nc. Estimate the tongue's size as well as its symmetry and strength by  protruding  and  moving  the  tongue laterally.\\nd. Any  lesions  of  the  mucosa  or  any  abnormalities involving  the  frenulum  or  superficial  veins  on  the undersurface of the tongue are assessed for location, size, color, and pain.\\ne. Tonsils, uvula, and posterior pharynx are inspected for color, symmetry, and evidence of exudate, ulceration, or enlargement.…\"\n",
      "chunk len: 643\n",
      "=== 7 ===\n",
      "page: 1\n",
      "chunker.serialize(chunk):\n",
      "'1. Inspection\\na. Noting skin changes, nodules, lesions, scarring, discolorations, inflammation, bruising, or striae\\nb. Contour  and  symmetry  of  the  abdomen  are  noted, and  any  localized  bulging,  distention  or  peristaltic waves are identified.…'\n",
      "chunk len: 253\n",
      "=== 8 ===\n",
      "page: 1\n",
      "chunker.serialize(chunk):\n",
      "'2. Auscultation\\na. Is  used  to  determine  the  character,  location,  and frequency  of  bowel  sounds  (normal  hyperactive, hypoactive, absent) and to identify vascular sounds.\\nb. Using the bell of the stethoscope, note for any bruits in the aortic, renal, iliac, and femoral arteries.\\nPREPARED BY: GHEA CASSANDRA R. TAN\\n1…'\n",
      "chunk len: 326\n",
      "=== 9 ===\n",
      "page: 2\n",
      "chunker.serialize(chunk):\n",
      "'CHAPTER 1: DIGESTIVE AND GASTROINTESTINAL FUNCTION\\nc. Friction rubs are high pitched and can be heard over the liver and spleen during respiration.\\nd. Borborygmi is heard as a loud prolonged gurgle.…'\n",
      "chunk len: 198\n",
      "=== 10 ===\n",
      "page: 2\n",
      "chunker.serialize(chunk):\n",
      "'3. Percussion\\na. Used  to  assess the size and density of the abdominal organs  and  to  detect  the  presence  of  air-filled, fluid-filled, or solid masses.\\nb. Tympani is the sound that results from the presence of air in the stomach and small intestine.\\nc. Dullness is heard over organs adn solid masses\\nd. Light  palpation  is  appropriate  for identifying areas of tenderness or muscular resistance\\ne. Deep palpation is used to identify masses…'\n",
      "chunk len: 448\n",
      "=== 11 ===\n",
      "page: 2\n",
      "chunker.serialize(chunk):\n",
      "'4. Rectal Inspection and Palpation\\na. External  examination:  inspection  for  lumps,  rashes, inflammation, excoriation, tears, scars, pilonidal dimpling, and tufts of hair at the pilonidal area.\\nb. Discovery of tenderness, inflammation, or both should alert the examiner to the possibility of a pilonidal cyst, perianal abscess, or anorectal fistula or fissure.\\nc. Ask  pt  to  bear  down,  thus  allowing  the  ready appearance of fistulas, fissures, rectal prolapse, polyps, and internal hemprrhoids.…'\n",
      "chunk len: 504\n",
      "=== 12 ===\n",
      "page: 2\n",
      "chunker.serialize(chunk):\n",
      "'NURSING RESPONSIBILITIES\\n1. Positions  for  the  rectal  examination  include  knee-chest,  left lateral with  hips  and  knees  flexed, or standing with hips flexed and upper body supported by the examination table.\\n2. Internal  examination  is  performed  with  a  gloved  lubricated  index finger inserted into the anal canal while the patient bears down.\\n3. Encourage  pt  to  focus  on  deep  breathing  and  visualization  of  a pleasant setting during the brief examination.…'\n",
      "chunk len: 481\n",
      "=== 13 ===\n",
      "page: 2\n",
      "chunker.serialize(chunk):\n",
      "'General Nursing Interventions\\n● Establishing the nursing diagnosis.\\n● Providing  needed  information  about  the  test  and the activities required of the patient.\\n● Providing  instructions  about  post-procedure  care  and  activity restrictions.\\n● Providing  health  information  and  procedural  education  to patients and significant others.\\n● Helping the patient cope with discomfort and alleviating anxiety.\\n● Informing  the  primary  provider  of  known  medical conditions or abnormal laboratory values that may affect the procedure.\\n● Assessing for adequate hydration before, during, and immediately  after  the  procedure,  and  providing  education about maintenance of hydration.…'\n",
      "chunk len: 691\n",
      "=== 14 ===\n",
      "page: 2\n",
      "chunker.serialize(chunk):\n",
      "'A. Serum Laboratory Studies\\n● CBC\\n● Complete Metabolic Panel\\n● PT/PTT\\n● Triglycerides\\n● LFT\\n● Amylase, Lipase\\n● Carcinoembryonic Antigen (CEA\\n● Cancer Antigen (CA) 19-9\\n● Alpha-fetoprotein…'\n",
      "chunk len: 188\n",
      "=== 15 ===\n",
      "page: 2\n",
      "chunker.serialize(chunk):\n",
      "'A. Stool Studies\\n● Basic Stool Exam\\n● Quantitative Study\\n● Fecal Occult Blood Testing\\n● Fecal Immunologic Testing (FIT)\\n● Stool DNA Testing…'\n",
      "chunk len: 139\n",
      "=== 16 ===\n",
      "page: 2\n",
      "chunker.serialize(chunk):\n",
      "'C. Breath Tests\\n● Hydrogen  Breath  Test : Developed  to  evaluate  carbohydrate absorption, in addition to aiding in the dx of bacterial overgrowth in the intestine and short bowel syndrome.\\n● Urea Breath Test : Detect the presence of Helicobacter pylori.…'\n",
      "chunk len: 256\n",
      "=== 17 ===\n",
      "page: 2\n",
      "chunker.serialize(chunk):\n",
      "'· Nursing Responsibilities :\\n1. Instruct  pt.  To  avoid  antibiotics  of  bismuth subsalicylate  (Pepto-Bismol)  for  1  month before the test.\\n2. Avoid sucralfate (Carafate) and omeprazole (Prilosec) for 1 week before the test.\\n3. Avoid  cimetidine  (Tagamet),  Famotidine (Pepcid),  and  ranitidine  (Zantac)  for  24 hours before the test.…'\n",
      "chunk len: 343\n",
      "=== 18 ===\n",
      "page: 2\n",
      "chunker.serialize(chunk):\n",
      "'D. Abdominal Ultrasonography\\n● Useful in the detection of an enlarged gallbladder or pancreas, the  presence  of  gallstones,  an  enlarged  ovary,  and  ectopic pregnancy, or appendicitis.\\n● Endoscopic  Ultrasonography  (EUS) is  a  specialized enteroscopic procedure that aids in the diagnosis of GI disorders by providing direct imaging of a target area.…'\n",
      "chunk len: 357\n",
      "=== 19 ===\n",
      "page: 2\n",
      "chunker.serialize(chunk):\n",
      "'● Nursing Interventions\\n:\\n1. Instruct  pt.  to  fast  for  8-12  hours  before  ultrasound testing.\\n2. If  gallbladder  studies  are  being  3275  performed, the patient should eat a fat-free meal the evening before the test.\\n3. If  barium studies are to be performed, they should be scheduled after ultrasonography.\\n4. Patients who receive moderate sedation are observed for  about  1  hour  to  assess  for level of consciousness, orientation, and ability to ambulate.\\n5. Patients  treated  on  an  outpatient  basis  are  given instructions regarding  diet,  activity,  and  how  to monitor for complications.…'\n",
      "chunk len: 612\n",
      "=== 20 ===\n",
      "page: 2\n",
      "chunker.serialize(chunk):\n",
      "'E. Genetic Testing\\n● Researchers  have  refined  methods  for  genetic  risk  assessment, preclinical  diagnosis,  and  prenatal  diagnosis  to identify people who are at risk for certain GI disorders.…'\n",
      "chunk len: 201\n",
      "=== 21 ===\n",
      "page: 2\n",
      "chunker.serialize(chunk):\n",
      "\"Nursing Interventions :\\n1. Clear  liquid  diet,  with  nothing  by  mouth  (NPO)  from midnight the night before the study.\\n2. Patient is advised to not smoke or chew gum during the NPO  period  because  these  can  increase  gastric secretions and salivation.\\n3. Polyethylene glycol (PEG)-based solutions are considered the most effective bowel cleansing preparatory agent.\\n4. Oral  medications  are  withheld  on  the  morning  of  the study  and  resumed  that  evening,  but  each  patient's medication  regimen  should  be  evaluated  on  an individual basis.\\n5. When a patient with insulin dependent diabetes is NPO, their insulin requirements  will  need  to  be  adjusted accordingly.\\n6. Instruct pt  to  increase  OFI  after  the  procedure  to facilitate evacuation of stool and barium.\\n1. Low-residue diet 1 to 2 days before the test, a clear liquid diet  and  a  laxative  the  evening  before,  NPO  after midnight,  and  cleansing  enemas  until  returns  are  clear the following morning.\\n2. Enemas  are contraindicated for pts with active\\nPREPARED BY: GHEA CASSANDRA R. TAN\\n2…\"\n",
      "chunk len: 1091\n",
      "=== 22 ===\n",
      "page: 3\n",
      "chunker.serialize(chunk):\n",
      "'CHAPTER 1: DIGESTIVE AND GASTROINTESTINAL FUNCTION\\ninflammatory disease of the colon.\\n3. Barium enemas also are contraindicated in patients with signs of perforation or obstruction; instead, a water-soluble contrast study may be performed.\\n4. Active GI bleeding may prohibit the use of laxatives and enemas.\\n5. Increase  fluid  intake,  evaluating  bowel  movements  for evacuation  of  barium  and  noting  increased number of bowel movements.…'\n",
      "chunk len: 444\n",
      "=== 23 ===\n",
      "page: 3\n",
      "chunker.serialize(chunk):\n",
      "'COMPUTED TOMOGRAPHY (CT) SCAN\\n● Non-invasive,  a computer translates the action of multiple X-ray beams  into  three-dimensional  oscilloscope images of the biliary tract, liver, and pancreas. The test can be done with or without a contrast medium.\\n● Helps distinguish between  obstructive  and  non-obstructive jaundice.\\n● Identifies abscesses, cysts, hematomas, tumors, and pseudocysts.\\n● Can help evaluate the cause of weight loss.\\n● Detects occult malignancy.\\n● Can help diagnose and evaluate pancreatitis.…'\n",
      "chunk len: 510\n",
      "=== 24 ===\n",
      "page: 3\n",
      "chunker.serialize(chunk):\n",
      "\"NURSING INTERVENTIONS\\n1. Assess  pt  for  allergies  to  contrast  agents,  iodine,  or  shellfish,  the patient's  current  serum  creatinine  level,  and  pregnancy  status  in females.\\n2. Kidney protective measures include the administration of IV sodium bicarbonate  1  hour  before  and  6  hours  after  IV  contrast and oral N-acetylcysteine (Mucomyst) before or after the studY.\\n3. Tell  the  patient  to restrict food and fluids after midnight before the test but to continue any drug regimen, as ordered.\\n4. Explain  that  the  patient  should lie still, relax, breathe normally, and remain  quiet  during  the  test  because  movement  blurs  the  X-ray picture and prolongs the test.…\"\n",
      "chunk len: 695\n",
      "=== 25 ===\n",
      "page: 3\n",
      "chunker.serialize(chunk):\n",
      "'MAGNETIC RESONANCE IMAGING (MRI)\\n● Noninvasive technique uses magnetic fields and radio waves to produce images of the area being studied.…'\n",
      "chunk len: 138\n",
      "=== 26 ===\n",
      "page: 3\n",
      "chunker.serialize(chunk):\n",
      "'NURSING INTERVENTIONS\\n1. NPO status 6 to 8 hours before the study and removal of all jewelry and other metals.\\n2. MRI is contraindicated in patients with any device containing metal because the magnetic field could cause malfunction.\\n3. Foil-backed  skin  patches  (e.g.,  nicotine  [NicoDerm],  nitroglycerin [Transderm-Nitro], scopolamine [Transderm-Scop], clonidine [Catapres-TTS])  should  be  removed  before  an MRI because of the risk of burns.\\n4. The patient and family are informed that the study may take 60 to 90 minutes.\\n5. The  close-fitting  scanners  used  in  many  MRI  facilities  may  induce feelings  of  claustrophobia,  and  the machine will make a knocking sound during the procedure.…'\n",
      "chunk len: 707\n",
      "=== 27 ===\n",
      "page: 3\n",
      "chunker.serialize(chunk):\n",
      "'POSITRON EMISSION TOMOGRAPHY\\n● Diagnostic tool aiding diagnosis of many disease states, primarily in oncology,  neurology,  and  cardiology.  The  technique  is applicable to all parts of the body for diagnosis, disease staging, and monitoring of therapy.…'\n",
      "chunk len: 255\n",
      "=== 28 ===\n",
      "page: 3\n",
      "chunker.serialize(chunk):\n",
      "'SCINTIGRAPHY\\n● Relies on the use of radiactive isotopes (i.e., technetium, iodine, and indium) to reveal displaced anatomic structures, changes in organ size, and the presence of neoplasms or other focal lesions such as cysts or abscesses.…'\n",
      "chunk len: 239\n",
      "=== 29 ===\n",
      "page: 3\n",
      "chunker.serialize(chunk):\n",
      "'VIRTUAL COLONOSCOPY\\n● Is  a  nonsurgical  approach  to evaluate the colon. A soft-tipped catheter  introduces air into the colon while a three-dimensional CT scan is performed. The scan takes about 10 minutes. Images are assembled in a computer program that can be viewed on a screen.  This  test  may  be  useful  for  the  patient  who  refuses traditional colonoscopy.…'\n",
      "chunk len: 371\n",
      "=== 30 ===\n",
      "page: 3\n",
      "chunker.serialize(chunk):\n",
      "\"NURSING MANAGEMENT\\n1. Tell  the  patient  that  he may feel discomfort when air is introduced into the colon.\\n2. Instruct the patient to remain still while images are taken.\\n3. Tell the patient that he'll have no restrictions after the test but that he may feel bloated from the air introduced into his colon.…\"\n",
      "chunk len: 309\n",
      "=== 31 ===\n",
      "page: 3\n",
      "chunker.serialize(chunk):\n",
      "'(1) Upper GI Fibroscopy/ Esophagogastroduodenoscopy (EGD)\\n● PillCam  ESO,  or  capsule  endoscopy,  requires  that  the  patient swallows  a  capsule  that  travels  by  peristalsis  through  the  small intestines.\\n● Endoscopic Retrograde Cholangiopancreatography (ERCP) uses the endoscope in combination with X-rays to view the bile ducts, pancreatic ducts, and gallbladder.\\nFigure 43-5 * Patient undergoing gastroscopys…'\n",
      "chunk len: 421\n",
      "=== 32 ===\n",
      "page: 3\n",
      "chunker.serialize(chunk):\n",
      "\"NURSING INTERVENTIONS\\n1. NPO for 8 hours prior to the examination.\\n2. The  patient  is  given  a  local anesthetic gargle or spray. Midazolam (Versed), a sedative that provides moderate sedation with loss of the gag reflex and relieves anxiety during the procedure, is given.\\n3. Atropine may be given to reduce secretions, and glucagon may be given to relax smooth muscle.\\n4. The  patient  is  positioned  in  the  left  lateral  position  to  facilitate clearance of pulmonary secretions and provide smooth entry of the scope.\\n5. After gastroscopy, assessment includes level of consciousness, VS, O2 saturation,  pain  level,  and  monitoring  for  sign  or  perforation  (i.e., pain,  bleeding,  unusual  difficulty  swallowing,  and  rapidly elevated temperature). Temporary loss of the gag reflex is expected; after the patient's  gag  reflex  has  returned, lozenges, saline gargle, and oral analgesic agent may be offered to relieve minor throat discomfort.\\n6. Patients  who  were  sedated  fort  he  procedure must remain in bed until fully alert.\\n7. After moderate sedation, the patient must be transported home with a  family  member  or  friend  if  the  procedure  was performed on an outpatient basis.…\"\n",
      "chunk len: 1213\n",
      "=== 33 ===\n",
      "page: 3\n",
      "chunker.serialize(chunk):\n",
      "'(2) Fiberoptic Colonoscopy\\n● Direct  visual  inspection  of  the  large  intestine  (anus,  rectum, sigmoid,  transcending  and  ascending  colon)  is  possible  by means of a flexible fiberoptic colonoscope.\\n● Most frequently used for cancer screening and for surveillance in patient s with previous colon cancer or polyps.\\nPREPARED BY: GHEA CASSANDRA R. TAN\\n3\\nFigure 43-6 Colonoscopy and flexible fibcroptic sigmoidoscopy. For the colonoscopy, the flexible scope is passed through the rectum and sigmoid colon into the descending;transverse , and ascending colon For the flexible fiberoptic sigmoidoscopy, the flexible scope is advanced past the proximal sigmoid and then into the descending colon.…'\n",
      "chunk len: 700\n",
      "=== 34 ===\n",
      "page: 4\n",
      "chunker.serialize(chunk):\n",
      "'CHAPTER 1: DIGESTIVE AND GASTROINTESTINAL FUNCTION\\nSigmoidoscopy…'\n",
      "chunk len: 64\n",
      "=== 35 ===\n",
      "page: 4\n",
      "chunker.serialize(chunk):\n",
      "'1. Adequate colon cleansing:\\n● Laxative  for  2  nights  before  the  examination  and  a  fleet or saline enema until the return is clear the morning of the test.\\n● PEG  electrolyte  lavage  solution  (GoLYTELY,  CoLyte,  and NuLYTELY)\\n● 2-L PEG split-dose regimen in low or no risk pts.\\n● 4-L split dose with sodium picosulfate plus bisacodyl in pts with comorbidities\\n2. The  patient  maintains  a  clear  liquid  diet  starting  at  noon  the  day before  the  procedure.  Then the patient ingests the lavage solution orally at intervals over 3 to 4 hours.\\n3. A  sodium  phosphate  tables  (OsmoPrep,  Visicol)  can  be  used  for colon cleansing prior to colonoscopy.\\n4. Advise pt with diabetes to consult with their primary provider about medication adjustments.\\n5. Instruct  all  patients,  especially  older  adults  to  maintain  adequate fluid, electrolyte,  and  caloric  intake  while  undergoing  bowel cleansing.\\n6. A cardiologist should be consulted before the test is performed to pts with implantable defibrillators and pacemakers.\\n7. Colonoscopy  cannot  be  performed  if  there  is  a  suspected documented  colon  perforation,  acute  severe  diverticulitis,  or fulminant colitis.\\n8. Patients  with  prosthetic  heart  valves  or  a  history  of  endocarditis require prophylactic antibiotics before the procedure.\\n9. Obtain an informed consent before the pt is sedated with an opioid analgesic  agent  or  sedative  (e.g.  Midazolam).  Glucagon  may  be given,  if  needed,  to  relax  the  colonic  musculature  and to reduce spasm during the test.\\n10. During the procedure, monitor VS, oxygen saturation, LOC, color and temperature  of  the skin, abdominal distention, vagal response and pain intensity,\\n11. After  the  procedure,  monitor  for  s/s  of  bowel  perforation  (rectal bleeding, abdominal pain/ distention, fever, focal peritoneal signs).\\n12. Maintain pt on bed rest until fully awake…'\n",
      "chunk len: 1923\n",
      "=== 36 ===\n",
      "page: 4\n",
      "chunker.serialize(chunk):\n",
      "'(3) Anoscopy, Proctoscopy, and Sigmoidoscopy\\n● Endoscopic  examination  of the anus, rectum, and sigmoid and descending  colon  is  used  to  evaluate  chronic  diarrhea,  fecal incontinence, ischemic colitis, and lower GI hemorrhage and to observe for ulceration, fissures, abscesses, tumors, polyps, or other pathologic processes.…'\n",
      "chunk len: 332\n",
      "=== 37 ===\n",
      "page: 4\n",
      "chunker.serialize(chunk):\n",
      "'not required.\\n3. During  the  procedure,  the  nurse monitors vital signs, skin color and temperature, pain tolerance, and vagal response.\\n4. After  the  procedure,  the  nurse  monitors  the  patient  for  rectal bleeding  and  signs  of  intestinal  perforation  (i.e.,  fever,  rectal drainage, abdominal distention, and pain).\\n5. On  completion  of  the  examination,  the  patient  can  resume  their regular activities and diet.…'\n",
      "chunk len: 434\n",
      "=== 38 ===\n",
      "page: 4\n",
      "chunker.serialize(chunk):\n",
      "'(4) Small Bowel Studies\\n● Capsule  endoscopy  allows  the  noninvasive  visualization  of  the mucosa  throughout  the  entire  small  intestine.  It  is  particularly useful in the evaluation of obscure GI bleeding\\n● Double-balloon enteroscopy has made it possible to visualize the mucosa of the entire small bowel as well as carry out diagnostic and therapeutic interventions…'\n",
      "chunk len: 377\n",
      "=== 39 ===\n",
      "page: 4\n",
      "chunker.serialize(chunk):\n",
      "'(5) Endoscopy Through An Ostomy\\n● Endoscopy  through  an  ostomy  stoma  is  useful  for  visualizing  a segment of the small or large intestine and may be indicated to evaluate  the  anastomosis  for  recurrent  disease,  or  to  visualize and treat bleeding in a segment of the bowel.…'\n",
      "chunk len: 286\n",
      "=== 40 ===\n",
      "page: 4\n",
      "chunker.serialize(chunk):\n",
      "'H. Manometry and Electrophysiologic Studies\\n● Rectal  sensory  function  studies  are  used  to  evaluate  rectal sensory function and neuropathy.\\n● Esophageal manometry is used to detect motility disorders of the esophagus and the upper and lower esophageal sphincter.\\n● Gastroduodenal, small intestine, and  colonic  manometry procedures are used to evaluate delayed gastric emptying and gastric  and  intestinal  motility  disorders  such  as  irritable  bowel syndrome or atonic colon.\\n● Electrogastrography,  an  electrophysiologic  study,  also  may  be performed  to  assess  gastric  motility  disturbances  and  can  be useful in detecting motor or nerve dysfunction in the stomach.\\n● Defecography  measures  anorectal  function  and  is  performed with very thick barium paste instilled into the rectum. Fluoroscopy is  used  to  assess  the function of the rectum and anal sphincter while the patient attempts to expel the barrium.…'\n",
      "chunk len: 942\n",
      "=== 41 ===\n",
      "page: 4\n",
      "chunker.serialize(chunk):\n",
      "'I. Gastric Analysis, Gastric Acid Stimulation Test, and pH Monitoring\\n● Analysis of the gastric juice yields information about the secretory activity  of  the  gastric  mucosa  and  the  presence  or  degree of gastric retention in patients thought to have pyloric or duodenal obstruction.\\n● It is also  useful  for  diagnosing  Zollinger-Ellison  syndrome  or atrophic gastritis.…'\n",
      "chunk len: 380\n",
      "=== 42 ===\n",
      "page: 4\n",
      "chunker.serialize(chunk):\n",
      "'NURSING INTERVENTIONS\\n1. The patient is NPO for 8 to 12 hours before the procedure.\\n2. Any medications that affect gastric secretions are withheld for 24 to 48 hours before the test.\\n3. Smoking is not allowed on the morning of the test.\\n4. Place pt in a semi-reclining position.\\n5. Inform pt that a small nasogastric tube with a catheter tip marked at various  points  is  inserted  through  the  nose.  The  entire  stomach contents are aspirated by gentle suction into a syringe, and gastric samples are collected every 15 minutes for the next hour.…'\n",
      "chunk len: 551\n",
      "=== 43 ===\n",
      "page: 4\n",
      "chunker.serialize(chunk):\n",
      "'J. Laparoscopy (Peritoneoscopy)\\n● Indications : To  evaluate  liver  disease  and  to  obtain  biopsy specimens when the liver is too small, when previous liver biopsy proves  inadequate,  when  contraindications  to  percutaneous liver biopsy exist (e.g., ascites), when there is unexplained portal hypertension  or  liver  function  abnormalities,  and when the liver cannot be properly palpated for a conventional liver biopsy.\\n4\\n1.\\nBowel preparation, including a warm tap water or Fleet enema until\\n2.\\nDietary restrictions usually are not necessary, and sedation usually is\\nPREPARED BY: GHEA CASSANDRA R. TAN\\nreturns are clear.…'\n",
      "chunk len: 631\n"
     ]
    }
   ],
   "source": [
    "chunker = HybridChunker()\n",
    "chunk_iter = chunker.chunk(dl_doc=document)\n",
    "\n",
    "for i, chunk in enumerate(chunk_iter):\n",
    "\tprint(f\"=== {i} ===\")\n",
    "\tprint(f\"page: {chunk.meta.doc_items[0].prov[0].page_no}\")\n",
    "\tenriched_text = chunker.serialize(chunk=chunk)\n",
    "\tprint(f\"chunker.serialize(chunk):\\n{repr(f'{enriched_text}…')}\")\n",
    "\n",
    "\tprint(f\"chunk len: {len(enriched_text)}\")"
   ]
  },
  {
   "cell_type": "markdown",
   "metadata": {},
   "source": [
    "### Stage 2: RAG Modeling\n",
    "\n",
    "Once the vector database is populated, the system will retrieve relevant information from both nursing handbooks and personal study notes. The retrieval will be augmented using an LLM (Large Language Model) for more accurate and contextually rich responses.\n",
    "\n",
    "#### Steps:\n",
    "\n",
    "1. **Retrieve Relevant Information**:\n",
    "   - When a query is input by the user (e.g., \"What are the symptoms of diabetes?\"), the system will retrieve the most relevant content from the vector database.\n",
    "   - ChromaDB will find the sections of the nursing handbooks or personal study notes that are most similar to the query.\n",
    "\n",
    "2. **Augment Response Using Deepseek LLM**:\n",
    "   - The retrieved sections will be passed through the **Deepseek LLM**, which will generate a response based on the content of the handbooks and notes.\n",
    "   - The LLM will combine the relevant information and format it into a coherent, accurate response tailored to the question.\n",
    "\n",
    "### Stage 3: Agentic RAG System\n",
    "\n",
    "The **Agentic Layer** adds an intelligent routing mechanism to the RAG system. Instead of simply retrieving data from a static source, the system will decide where to get the most relevant information based on the context of the query and whether the query pertains to the nursing handbooks or her personal study notes.\n",
    "\n",
    "#### Steps:\n",
    "\n",
    "1. **Incorporate Personal Study Notes (Transes)**:\n",
    "   - Personal study notes (transes) are documents or annotations written by the user, capturing key insights, case studies, or specific experiences.\n",
    "   - These notes will be embedded in the same way as the nursing handbooks and stored in the same vector database.\n",
    "\n",
    "2. **Agent Routes the Query**:\n",
    "   - When a user (nursing student) asks a question, the **agent** will decide whether to retrieve data from the nursing handbooks or her personal study notes.\n",
    "   - The agent will consider:\n",
    "     - The **context** of the question (general knowledge vs. personalized experiences).\n",
    "     - Whether her **personal study notes** are more relevant (e.g., if she’s already written notes on a particular case or condition).\n",
    "     - If the query is general, the agent will prioritize retrieving information from the **nursing handbooks**.\n",
    "\n",
    "3. **Retrieve from Both Sources**:\n",
    "   - The system retrieves information from both the **nursing handbooks** and **personal study notes** based on the agent’s decision.\n",
    "   - If the question pertains to something she has written down in her personal notes, the agent will prioritize retrieving those, combining them with general knowledge from the handbooks.\n",
    "\n",
    "4. **Augment Response Using Deepseek LLM**:\n",
    "   - The retrieved content from both sources is fed to the **Deepseek LLM**, which will merge the insights and generate a complete response.\n",
    "   - The LLM will ensure the answer is not only accurate but also personalized based on the notes, making it more useful and contextually rich.\n"
   ]
  }
 ],
 "metadata": {
  "kernelspec": {
   "display_name": "rag-4-jiya-process-cmXo1Sk7-py3.12",
   "language": "python",
   "name": "python3"
  },
  "language_info": {
   "codemirror_mode": {
    "name": "ipython",
    "version": 3
   },
   "file_extension": ".py",
   "mimetype": "text/x-python",
   "name": "python",
   "nbconvert_exporter": "python",
   "pygments_lexer": "ipython3",
   "version": "3.12.3"
  }
 },
 "nbformat": 4,
 "nbformat_minor": 2
}
