{
 "cells": [
  {
   "cell_type": "markdown",
   "metadata": {},
   "source": [
    "# Project Prototype: Agentic RAG System with Nursing Handbooks and Transes as Knowledge Base"
   ]
  },
  {
   "cell_type": "markdown",
   "metadata": {},
   "source": [
    "The goal of this project is to create an **Agentic RAG-based system** that helps nursing students retrieve relevant information from nursing handbooks and their personal study notes. This system will augment the responses with context from the personal notes, making it more personalized and adaptive to the user's learning."
   ]
  },
  {
   "cell_type": "markdown",
   "metadata": {},
   "source": [
    "## Flow Overview\n",
    "\n",
    "The project involves two primary stages:\n",
    "1. **Prepopulating the Vector DB** (embedding the nursing handbooks and personal notes into a database)\n",
    "2. **RAG Modeling** (retrieving relevant information and augmenting responses using both the handbooks and personal notes)\n",
    "\n",
    "Additionally, there will be an **Agentic Layer** that intelligently routes queries to the appropriate source (nursing handbooks or personal study notes)."
   ]
  },
  {
   "cell_type": "markdown",
   "metadata": {},
   "source": [
    "### Technologies to use\n",
    "\n",
    "- **Docling**: For parsing the nursing handbooks and personal notes\n",
    "- **OpenAI Embedding Model (large)**: For embedding both nursing handbooks and personal study notes.\n",
    "- **ChromaDB**: For storing and querying the embeddings.\n",
    "- **Deepseek LLM**: For augmenting responses based on the retrieved content.\n",
    "- **Pydantic AI**: For AI agent intelligently routing queries between the nursing handbooks and personal notes. \n",
    "- **Pydantic**: For type safety and data validation.\n",
    "- **FastAPI**: For building the API.\n",
    "- **Docker**: For containerization and deployment.\n",
    "- **Pydantic Graphs**: For workflow pipelines"
   ]
  },
  {
   "cell_type": "markdown",
   "metadata": {},
   "source": [
    "## Initialization"
   ]
  },
  {
   "cell_type": "code",
   "execution_count": 70,
   "metadata": {},
   "outputs": [],
   "source": [
    "import os\n",
    "import joblib\n",
    "import threading\n",
    "import asyncio\n",
    "import chromadb\n",
    "import nanoid\n",
    "import json\n",
    "from pathlib import Path\n",
    "import concurrent.futures\n",
    "from rich import print\n",
    "from docling.document_converter import DocumentConverter\n",
    "from abc import ABC, abstractmethod\n",
    "import chromadb.utils.embedding_functions as embedding_functions\n",
    "from docling_core.transforms.chunker.hierarchical_chunker import DocChunk\n",
    "from pydantic import BaseModel\n",
    "from pydantic_ai import Agent, RunContext\n",
    "from pydantic_ai.models.openai import OpenAIModel\n",
    "from docling.chunking import HybridChunker\n",
    "\n",
    "from dotenv import load_dotenv\n",
    "\n",
    "load_dotenv()\n",
    "knowledge_base_raw_path = './data/knowledge-base/raw/'\n",
    "knowledge_base_pickled_path = './data/knowledge-base/pickled/'"
   ]
  },
  {
   "cell_type": "markdown",
   "metadata": {},
   "source": [
    "### Stage 1: Prepopulate the Vector DB\n",
    "\n",
    "In this stage, we process nursing handbooks and personal study notes, embedding them into a vector database for efficient retrieval during RAG modeling.\n",
    "\n",
    "#### Steps:\n",
    "\n",
    "1. **Upload Nursing Handbooks**:\n",
    "   - Upload nursing handbooks in popular formats like PDF or DOCX.\n",
    "   - These documents may include textbooks on topics like **medical-surgical nursing, pharmacology, pediatric nursing**, and other specialized nursing areas.\n",
    "\n",
    "2. **Parsing the documents and retaining the page metadata**:\n",
    "   - Use **Docling** to convert nursing handbooks and personal notes docling document.\n",
    "   - The conversion ensures that the pdf metadata are preserved, making it easier for the AI to process.\n",
    "\n",
    "3. **Generate Embeddings**:\n",
    "   - Use **OpenAI's large embedding model** to convert the nursing handbooks and personal notes into embeddings. These embeddings will capture the semantic meaning of each section, allowing for efficient similarity-based searches.\n",
    "   - Both the nursing handbooks and the personal study notes will be embedded into the vector database.\n",
    "\n",
    "4. **Save to Vector DB (ChromaDB)**:\n",
    "   - Store the generated embeddings in **ChromaDB** for fast retrieval during RAG modeling.\n",
    "   - The vector database will allow the system to quickly access the most relevant information when a query is made.\n",
    "\n",
    "**Note**: Converting and embedding long documents like nursing handbooks may take some time (e.g., **15-30 minutes** per document).\n",
    "\n"
   ]
  },
  {
   "cell_type": "code",
   "execution_count": 33,
   "metadata": {},
   "outputs": [
    {
     "data": {
      "text/plain": [
       "['Handbook of Clinical Nursing_ Medical-Surgical Nursing -- Joyce Fitzpatrick -- 2018 -- Springer Publishing Company -- 9780826130785 -- 26f2533f396508e653d45e0e76aadc53 -- Anna’s Archive.pdf',\n",
       " 'NRG 304 LEC_ WEEK 2_CHAPTER 1 ASSESSMENT OF THE DIGESTIVE AND GASTROINTESTINAL FUNCTION.pdf']"
      ]
     },
     "execution_count": 33,
     "metadata": {},
     "output_type": "execute_result"
    }
   ],
   "source": [
    "# List the raw files to convert\n",
    "os.listdir(knowledge_base_raw_path)"
   ]
  },
  {
   "cell_type": "code",
   "execution_count": 34,
   "metadata": {},
   "outputs": [
    {
     "data": {
      "text/html": [
       "<pre style=\"white-space:pre;overflow-x:auto;line-height:normal;font-family:Menlo,'DejaVu Sans Mono',consolas,'Courier New',monospace\">File `Handbook of Clinical Nursing_ Medical-Surgical Nursing -- Joyce Fitzpatrick -- <span style=\"color: #008080; text-decoration-color: #008080; font-weight: bold\">2018</span> -- Springer P`<span style=\"color: #808000; text-decoration-color: #808000\">...</span> is \n",
       "already pickled.\n",
       "</pre>\n"
      ],
      "text/plain": [
       "File `Handbook of Clinical Nursing_ Medical-Surgical Nursing -- Joyce Fitzpatrick -- \u001b[1;36m2018\u001b[0m -- Springer P`\u001b[33m...\u001b[0m is \n",
       "already pickled.\n"
      ]
     },
     "metadata": {},
     "output_type": "display_data"
    },
    {
     "data": {
      "text/html": [
       "<pre style=\"white-space:pre;overflow-x:auto;line-height:normal;font-family:Menlo,'DejaVu Sans Mono',consolas,'Courier New',monospace\">File `NRG <span style=\"color: #008080; text-decoration-color: #008080; font-weight: bold\">304</span> LEC_ WEEK 2_CHAPTER <span style=\"color: #008080; text-decoration-color: #008080; font-weight: bold\">1</span> ASSESSMENT OF THE DIGESTIVE AND GASTROINTESTINAL FUNCTION.pdf`<span style=\"color: #808000; text-decoration-color: #808000\">...</span> is already \n",
       "pickled.\n",
       "</pre>\n"
      ],
      "text/plain": [
       "File `NRG \u001b[1;36m304\u001b[0m LEC_ WEEK 2_CHAPTER \u001b[1;36m1\u001b[0m ASSESSMENT OF THE DIGESTIVE AND GASTROINTESTINAL FUNCTION.pdf`\u001b[33m...\u001b[0m is already \n",
       "pickled.\n"
      ]
     },
     "metadata": {},
     "output_type": "display_data"
    }
   ],
   "source": [
    "document_converter = DocumentConverter()\n",
    "\n",
    "knowledge_base_raw_files = os.listdir(knowledge_base_raw_path)\n",
    "knowledge_base_pickled_files = os.listdir(knowledge_base_pickled_path)\n",
    "\n",
    "for file in knowledge_base_raw_files:\n",
    "\tfile_path = os.path.join(knowledge_base_raw_path, file)\n",
    "\tfile_name = os.path.splitext(file)[0]\n",
    "\n",
    "\t# Check if not file \n",
    "\tif not os.path.isfile(file_path):\n",
    "\t\tcontinue\n",
    "\n",
    "\t# Check if file is already pickled\n",
    "\tif f\"{file_name}.docling\" in knowledge_base_pickled_files:\n",
    "\t\tprint(f\"File `{file[:97]}`... is already pickled.\")\n",
    "\t\tcontinue\n",
    "\n",
    "\t# Pickling the document to retain the metadata (there is currently no way to get the paging metadata from exported md)\n",
    "\tprint(f\"Pickling file: `{file[:97]}`...\")\n",
    "\tconversion_result = document_converter.convert(file_path)\n",
    "\t\n",
    "\tjoblib.dump(\n",
    "\t\tconversion_result.document, \n",
    "\t\tos.path.join(knowledge_base_pickled_path, f\"{file_name}.docling\"),\n",
    "\t\tcompress=3\n",
    "\t)"
   ]
  },
  {
   "cell_type": "markdown",
   "metadata": {},
   "source": [
    "#### Create the collections"
   ]
  },
  {
   "cell_type": "code",
   "execution_count": 35,
   "metadata": {},
   "outputs": [],
   "source": [
    "chroma_client = await chromadb.AsyncHttpClient(host=\"localhost\", port=\"8001\")"
   ]
  },
  {
   "cell_type": "markdown",
   "metadata": {},
   "source": [
    "Using the OpenAI text-embedding-3-small model"
   ]
  },
  {
   "cell_type": "code",
   "execution_count": 36,
   "metadata": {},
   "outputs": [],
   "source": [
    "embed_fn_openai = embedding_functions.OpenAIEmbeddingFunction(\n",
    "\tapi_key=os.getenv(\"OPENAI_API_KEY\"),\n",
    "\tmodel_name=os.getenv(\"OPENAI_EMBEDDING_MODEL\"),\n",
    ")"
   ]
  },
  {
   "cell_type": "markdown",
   "metadata": {},
   "source": [
    "Creating the collections"
   ]
  },
  {
   "cell_type": "code",
   "execution_count": 37,
   "metadata": {},
   "outputs": [],
   "source": [
    "collection_base_documents = await chroma_client.get_or_create_collection(name=\"base_documents\", embedding_function=embed_fn_openai)"
   ]
  },
  {
   "cell_type": "markdown",
   "metadata": {},
   "source": [
    "Chunking the document the NRG 304 document as test"
   ]
  },
  {
   "cell_type": "code",
   "execution_count": 38,
   "metadata": {},
   "outputs": [],
   "source": [
    "document = joblib.load(os.path.join(\n",
    "\tknowledge_base_pickled_path, \n",
    "\t\"NRG 304 LEC_ WEEK 2_CHAPTER 1 ASSESSMENT OF THE DIGESTIVE AND GASTROINTESTINAL FUNCTION.docling\"\n",
    "))"
   ]
  },
  {
   "cell_type": "markdown",
   "metadata": {},
   "source": [
    "### Stage 2: RAG Modeling\n",
    "\n",
    "Once the vector database is populated, the system will retrieve relevant information from both nursing handbooks and personal study notes. The retrieval will be augmented using an LLM (Large Language Model) for more accurate and contextually rich responses.\n",
    "\n",
    "#### Steps:\n",
    "\n",
    "1. **Retrieve Relevant Information**:\n",
    "   - When a query is input by the user (e.g., \"What are the symptoms of diabetes?\"), the system will retrieve the most relevant content from the vector database.\n",
    "   - ChromaDB will find the sections of the nursing handbooks or personal study notes that are most similar to the query.\n",
    "\n",
    "2. **Augment Response Using Deepseek LLM**:\n",
    "   - The retrieved sections will be passed through the **Deepseek LLM**, which will generate a response based on the content of the handbooks and notes.\n",
    "   - The LLM will combine the relevant information and format it into a coherent, accurate response tailored to the question."
   ]
  },
  {
   "cell_type": "code",
   "execution_count": 39,
   "metadata": {},
   "outputs": [
    {
     "data": {
      "text/html": [
       "<pre style=\"white-space:pre;overflow-x:auto;line-height:normal;font-family:Menlo,'DejaVu Sans Mono',consolas,'Courier New',monospace\">=== <span style=\"color: #008080; text-decoration-color: #008080; font-weight: bold\">0</span> ===\n",
       "</pre>\n"
      ],
      "text/plain": [
       "=== \u001b[1;36m0\u001b[0m ===\n"
      ]
     },
     "metadata": {},
     "output_type": "display_data"
    },
    {
     "data": {
      "text/html": [
       "<pre style=\"white-space:pre;overflow-x:auto;line-height:normal;font-family:Menlo,'DejaVu Sans Mono',consolas,'Courier New',monospace\"><span style=\"font-weight: bold\">{</span>\n",
       "    <span style=\"color: #008000; text-decoration-color: #008000\">'schema_name'</span>: <span style=\"color: #008000; text-decoration-color: #008000\">'docling_core.transforms.chunker.DocMeta'</span>,\n",
       "    <span style=\"color: #008000; text-decoration-color: #008000\">'version'</span>: <span style=\"color: #008000; text-decoration-color: #008000\">'1.0.0'</span>,\n",
       "    <span style=\"color: #008000; text-decoration-color: #008000\">'doc_items'</span>: <span style=\"font-weight: bold\">[</span>\n",
       "        <span style=\"font-weight: bold\">{</span>\n",
       "            <span style=\"color: #008000; text-decoration-color: #008000\">'self_ref'</span>: <span style=\"color: #008000; text-decoration-color: #008000\">'#/tables/0'</span>,\n",
       "            <span style=\"color: #008000; text-decoration-color: #008000\">'parent'</span>: <span style=\"font-weight: bold\">{</span><span style=\"color: #008000; text-decoration-color: #008000\">'$ref'</span>: <span style=\"color: #008000; text-decoration-color: #008000\">'#/body'</span><span style=\"font-weight: bold\">}</span>,\n",
       "            <span style=\"color: #008000; text-decoration-color: #008000\">'children'</span>: <span style=\"font-weight: bold\">[]</span>,\n",
       "            <span style=\"color: #008000; text-decoration-color: #008000\">'content_layer'</span>: <span style=\"color: #008000; text-decoration-color: #008000\">'body'</span>,\n",
       "            <span style=\"color: #008000; text-decoration-color: #008000\">'label'</span>: <span style=\"color: #008000; text-decoration-color: #008000\">'table'</span>,\n",
       "            <span style=\"color: #008000; text-decoration-color: #008000\">'prov'</span>: <span style=\"font-weight: bold\">[</span>\n",
       "                <span style=\"font-weight: bold\">{</span>\n",
       "                    <span style=\"color: #008000; text-decoration-color: #008000\">'page_no'</span>: <span style=\"color: #008080; text-decoration-color: #008080; font-weight: bold\">1</span>,\n",
       "                    <span style=\"color: #008000; text-decoration-color: #008000\">'bbox'</span>: <span style=\"font-weight: bold\">{</span>\n",
       "                        <span style=\"color: #008000; text-decoration-color: #008000\">'l'</span>: <span style=\"color: #008080; text-decoration-color: #008080; font-weight: bold\">19.69459342956543</span>,\n",
       "                        <span style=\"color: #008000; text-decoration-color: #008000\">'t'</span>: <span style=\"color: #008080; text-decoration-color: #008080; font-weight: bold\">521.74951171875</span>,\n",
       "                        <span style=\"color: #008000; text-decoration-color: #008000\">'r'</span>: <span style=\"color: #008080; text-decoration-color: #008080; font-weight: bold\">280.4553527832031</span>,\n",
       "                        <span style=\"color: #008000; text-decoration-color: #008000\">'b'</span>: <span style=\"color: #008080; text-decoration-color: #008080; font-weight: bold\">293.35418701171875</span>,\n",
       "                        <span style=\"color: #008000; text-decoration-color: #008000\">'coord_origin'</span>: <span style=\"color: #008000; text-decoration-color: #008000\">'BOTTOMLEFT'</span>\n",
       "                    <span style=\"font-weight: bold\">}</span>,\n",
       "                    <span style=\"color: #008000; text-decoration-color: #008000\">'charspan'</span>: <span style=\"font-weight: bold\">[</span><span style=\"color: #008080; text-decoration-color: #008080; font-weight: bold\">0</span>, <span style=\"color: #008080; text-decoration-color: #008080; font-weight: bold\">0</span><span style=\"font-weight: bold\">]</span>\n",
       "                <span style=\"font-weight: bold\">}</span>\n",
       "            <span style=\"font-weight: bold\">]</span>\n",
       "        <span style=\"font-weight: bold\">}</span>\n",
       "    <span style=\"font-weight: bold\">]</span>,\n",
       "    <span style=\"color: #008000; text-decoration-color: #008000\">'headings'</span>: <span style=\"font-weight: bold\">[</span><span style=\"color: #008000; text-decoration-color: #008000\">'BRIEF REVIEW OF THE ANATOMY OF GIT'</span><span style=\"font-weight: bold\">]</span>,\n",
       "    <span style=\"color: #008000; text-decoration-color: #008000\">'origin'</span>: <span style=\"font-weight: bold\">{</span>\n",
       "        <span style=\"color: #008000; text-decoration-color: #008000\">'mimetype'</span>: <span style=\"color: #008000; text-decoration-color: #008000\">'application/pdf'</span>,\n",
       "        <span style=\"color: #008000; text-decoration-color: #008000\">'binary_hash'</span>: <span style=\"color: #008080; text-decoration-color: #008080; font-weight: bold\">7347013283832062728</span>,\n",
       "        <span style=\"color: #008000; text-decoration-color: #008000\">'filename'</span>: <span style=\"color: #008000; text-decoration-color: #008000\">'NRG 304 LEC_ WEEK 2_CHAPTER 1 ASSESSMENT OF THE DIGESTIVE AND GASTROINTESTINAL FUNCTION.pdf'</span>\n",
       "    <span style=\"font-weight: bold\">}</span>\n",
       "<span style=\"font-weight: bold\">}</span>\n",
       "</pre>\n"
      ],
      "text/plain": [
       "\u001b[1m{\u001b[0m\n",
       "    \u001b[32m'schema_name'\u001b[0m: \u001b[32m'docling_core.transforms.chunker.DocMeta'\u001b[0m,\n",
       "    \u001b[32m'version'\u001b[0m: \u001b[32m'1.0.0'\u001b[0m,\n",
       "    \u001b[32m'doc_items'\u001b[0m: \u001b[1m[\u001b[0m\n",
       "        \u001b[1m{\u001b[0m\n",
       "            \u001b[32m'self_ref'\u001b[0m: \u001b[32m'#/tables/0'\u001b[0m,\n",
       "            \u001b[32m'parent'\u001b[0m: \u001b[1m{\u001b[0m\u001b[32m'$ref'\u001b[0m: \u001b[32m'#/body'\u001b[0m\u001b[1m}\u001b[0m,\n",
       "            \u001b[32m'children'\u001b[0m: \u001b[1m[\u001b[0m\u001b[1m]\u001b[0m,\n",
       "            \u001b[32m'content_layer'\u001b[0m: \u001b[32m'body'\u001b[0m,\n",
       "            \u001b[32m'label'\u001b[0m: \u001b[32m'table'\u001b[0m,\n",
       "            \u001b[32m'prov'\u001b[0m: \u001b[1m[\u001b[0m\n",
       "                \u001b[1m{\u001b[0m\n",
       "                    \u001b[32m'page_no'\u001b[0m: \u001b[1;36m1\u001b[0m,\n",
       "                    \u001b[32m'bbox'\u001b[0m: \u001b[1m{\u001b[0m\n",
       "                        \u001b[32m'l'\u001b[0m: \u001b[1;36m19.69459342956543\u001b[0m,\n",
       "                        \u001b[32m't'\u001b[0m: \u001b[1;36m521.74951171875\u001b[0m,\n",
       "                        \u001b[32m'r'\u001b[0m: \u001b[1;36m280.4553527832031\u001b[0m,\n",
       "                        \u001b[32m'b'\u001b[0m: \u001b[1;36m293.35418701171875\u001b[0m,\n",
       "                        \u001b[32m'coord_origin'\u001b[0m: \u001b[32m'BOTTOMLEFT'\u001b[0m\n",
       "                    \u001b[1m}\u001b[0m,\n",
       "                    \u001b[32m'charspan'\u001b[0m: \u001b[1m[\u001b[0m\u001b[1;36m0\u001b[0m, \u001b[1;36m0\u001b[0m\u001b[1m]\u001b[0m\n",
       "                \u001b[1m}\u001b[0m\n",
       "            \u001b[1m]\u001b[0m\n",
       "        \u001b[1m}\u001b[0m\n",
       "    \u001b[1m]\u001b[0m,\n",
       "    \u001b[32m'headings'\u001b[0m: \u001b[1m[\u001b[0m\u001b[32m'BRIEF REVIEW OF THE ANATOMY OF GIT'\u001b[0m\u001b[1m]\u001b[0m,\n",
       "    \u001b[32m'origin'\u001b[0m: \u001b[1m{\u001b[0m\n",
       "        \u001b[32m'mimetype'\u001b[0m: \u001b[32m'application/pdf'\u001b[0m,\n",
       "        \u001b[32m'binary_hash'\u001b[0m: \u001b[1;36m7347013283832062728\u001b[0m,\n",
       "        \u001b[32m'filename'\u001b[0m: \u001b[32m'NRG 304 LEC_ WEEK 2_CHAPTER 1 ASSESSMENT OF THE DIGESTIVE AND GASTROINTESTINAL FUNCTION.pdf'\u001b[0m\n",
       "    \u001b[1m}\u001b[0m\n",
       "\u001b[1m}\u001b[0m\n"
      ]
     },
     "metadata": {},
     "output_type": "display_data"
    },
    {
     "data": {
      "text/html": [
       "<pre style=\"white-space:pre;overflow-x:auto;line-height:normal;font-family:Menlo,'DejaVu Sans Mono',consolas,'Courier New',monospace\">BRIEF REVIEW OF THE ANATOMY OF GIT\n",
       "Oral Cavity and Pharynx  ●  Injury/ loss or decay of teeth  ●  Atrophy of taste buds  ●  ↓ Saliva production  ●  \n",
       "Reduced ptyalin and amylase in saliva, Age-Related Changes in the Gastrointestinal System.Implications = Difficulty\n",
       "chewing and  swallowing. ●  ↓ Motility and emptying  ●  Weakened gag reflex  ●  ↓ Resting pressure of lower \n",
       "esophageal  sphincter\n",
       "</pre>\n"
      ],
      "text/plain": [
       "BRIEF REVIEW OF THE ANATOMY OF GIT\n",
       "Oral Cavity and Pharynx  ●  Injury/ loss or decay of teeth  ●  Atrophy of taste buds  ●  ↓ Saliva production  ●  \n",
       "Reduced ptyalin and amylase in saliva, Age-Related Changes in the Gastrointestinal System.Implications = Difficulty\n",
       "chewing and  swallowing. ●  ↓ Motility and emptying  ●  Weakened gag reflex  ●  ↓ Resting pressure of lower \n",
       "esophageal  sphincter\n"
      ]
     },
     "metadata": {},
     "output_type": "display_data"
    }
   ],
   "source": [
    "chunker = HybridChunker(max_tokens=100)\n",
    "chunk_iter = chunker.chunk(dl_doc=document)\n",
    "\n",
    "for i, chunk in enumerate(chunk_iter):\n",
    "\tprint(f\"=== {i} ===\")\n",
    "\tprint(chunk.meta.export_json_dict())\n",
    "\tenriched_text = chunker.serialize(chunk=chunk)\n",
    "\tprint(enriched_text)\n",
    "\tbreak"
   ]
  },
  {
   "cell_type": "code",
   "execution_count": 40,
   "metadata": {},
   "outputs": [],
   "source": [
    "class Metadata(BaseModel):\n",
    "\tuser_id: str\n",
    "\tfilename: str\n",
    "\theading: str\n",
    "\tpage_no: int\n",
    "\n",
    "class Records(BaseModel):\n",
    "\tdocuments: list[str] = []\n",
    "\tmetadatas: list[Metadata] = []\n",
    "\tids: list[str] = []"
   ]
  },
  {
   "cell_type": "code",
   "execution_count": 41,
   "metadata": {},
   "outputs": [],
   "source": [
    "chunker = HybridChunker(max_tokens=1000)\n",
    "chunk_iter = chunker.chunk(dl_doc=document)\n",
    "document_chunks = list(chunk_iter)\n",
    "\n",
    "records = Records()\n",
    "\n",
    "# Lock for thread-safe appends\n",
    "lock = threading.Lock()\n",
    "\n",
    "def extract_and_store(chunk: DocChunk):\n",
    "\tenriched_text = chunker.serialize(chunk=chunk)\n",
    "\tchunk_id = nanoid.generate()\n",
    "\tdoc_chunk_metadata = chunk.meta.export_json_dict()\n",
    "\tmetadata = Metadata(\n",
    "\t\tuser_id=\"jiya\",\n",
    "\t\tfilename=doc_chunk_metadata['origin']['filename'],\n",
    "\t\theading=doc_chunk_metadata['headings'][0],\n",
    "\t\tpage_no=doc_chunk_metadata['doc_items'][0]['prov'][0]['page_no']\n",
    "\t)\n",
    "\n",
    "\twith lock:\n",
    "\t\trecords.documents.append(enriched_text)\n",
    "\t\trecords.metadatas.append(metadata.model_dump())\n",
    "\t\trecords.ids.append(chunk_id)\n",
    "\n",
    "with concurrent.futures.ThreadPoolExecutor() as executor:\n",
    "\texecutor.map(extract_and_store, document_chunks)"
   ]
  },
  {
   "cell_type": "code",
   "execution_count": 42,
   "metadata": {},
   "outputs": [],
   "source": [
    "await collection_base_documents.add(\n",
    "\tdocuments=records.documents,\n",
    "\tmetadatas=records.metadatas,\n",
    "\tids=records.ids\n",
    ")"
   ]
  },
  {
   "cell_type": "code",
   "execution_count": 104,
   "metadata": {},
   "outputs": [],
   "source": [
    "query_result = await collection_base_documents.query(\n",
    "    query_texts=[\"upper gastrointestinal tract study nursing interventions\"],\n",
    "    n_results=3,\n",
    "    where={\"user_id\": \"jiya\"},\n",
    ")"
   ]
  },
  {
   "cell_type": "code",
   "execution_count": 105,
   "metadata": {},
   "outputs": [
    {
     "data": {
      "text/html": [
       "<pre style=\"white-space:pre;overflow-x:auto;line-height:normal;font-family:Menlo,'DejaVu Sans Mono',consolas,'Courier New',monospace\"><span style=\"font-weight: bold\">{</span>\n",
       "    <span style=\"color: #008000; text-decoration-color: #008000\">'ids'</span>: <span style=\"font-weight: bold\">[[</span><span style=\"color: #008000; text-decoration-color: #008000\">'9tkIlw-GCYLqPiru48knp'</span>, <span style=\"color: #008000; text-decoration-color: #008000\">'pmU-Igw167TooAnmgGv5P'</span>, <span style=\"color: #008000; text-decoration-color: #008000\">'PFC71O1G4tWccO6aBOeKq'</span><span style=\"font-weight: bold\">]]</span>,\n",
       "    <span style=\"color: #008000; text-decoration-color: #008000\">'distances'</span>: <span style=\"font-weight: bold\">[[</span><span style=\"color: #008080; text-decoration-color: #008080; font-weight: bold\">0.8048333758256015</span>, <span style=\"color: #008080; text-decoration-color: #008080; font-weight: bold\">0.822055825525987</span>, <span style=\"color: #008080; text-decoration-color: #008080; font-weight: bold\">0.8433847393001588</span><span style=\"font-weight: bold\">]]</span>,\n",
       "    <span style=\"color: #008000; text-decoration-color: #008000\">'embeddings'</span>: <span style=\"color: #800080; text-decoration-color: #800080; font-style: italic\">None</span>,\n",
       "    <span style=\"color: #008000; text-decoration-color: #008000\">'metadatas'</span>: <span style=\"font-weight: bold\">[</span>\n",
       "        <span style=\"font-weight: bold\">[</span>\n",
       "            <span style=\"font-weight: bold\">{</span>\n",
       "                <span style=\"color: #008000; text-decoration-color: #008000\">'filename'</span>: <span style=\"color: #008000; text-decoration-color: #008000\">'NRG 304 LEC_ WEEK 2_CHAPTER 1 ASSESSMENT OF THE DIGESTIVE AND GASTROINTESTINAL </span>\n",
       "<span style=\"color: #008000; text-decoration-color: #008000\">FUNCTION.pdf'</span>,\n",
       "                <span style=\"color: #008000; text-decoration-color: #008000\">'heading'</span>: <span style=\"color: #008000; text-decoration-color: #008000\">'Nursing Interventions :'</span>,\n",
       "                <span style=\"color: #008000; text-decoration-color: #008000\">'page_no'</span>: <span style=\"color: #008080; text-decoration-color: #008080; font-weight: bold\">2</span>,\n",
       "                <span style=\"color: #008000; text-decoration-color: #008000\">'user_id'</span>: <span style=\"color: #008000; text-decoration-color: #008000\">'jiya'</span>\n",
       "            <span style=\"font-weight: bold\">}</span>,\n",
       "            <span style=\"font-weight: bold\">{</span>\n",
       "                <span style=\"color: #008000; text-decoration-color: #008000\">'filename'</span>: <span style=\"color: #008000; text-decoration-color: #008000\">'NRG 304 LEC_ WEEK 2_CHAPTER 1 ASSESSMENT OF THE DIGESTIVE AND GASTROINTESTINAL </span>\n",
       "<span style=\"color: #008000; text-decoration-color: #008000\">FUNCTION.pdf'</span>,\n",
       "                <span style=\"color: #008000; text-decoration-color: #008000\">'heading'</span>: <span style=\"color: #008000; text-decoration-color: #008000\">'NURSING INTERVENTIONS'</span>,\n",
       "                <span style=\"color: #008000; text-decoration-color: #008000\">'page_no'</span>: <span style=\"color: #008080; text-decoration-color: #008080; font-weight: bold\">4</span>,\n",
       "                <span style=\"color: #008000; text-decoration-color: #008000\">'user_id'</span>: <span style=\"color: #008000; text-decoration-color: #008000\">'jiya'</span>\n",
       "            <span style=\"font-weight: bold\">}</span>,\n",
       "            <span style=\"font-weight: bold\">{</span>\n",
       "                <span style=\"color: #008000; text-decoration-color: #008000\">'filename'</span>: <span style=\"color: #008000; text-decoration-color: #008000\">'NRG 304 LEC_ WEEK 2_CHAPTER 1 ASSESSMENT OF THE DIGESTIVE AND GASTROINTESTINAL </span>\n",
       "<span style=\"color: #008000; text-decoration-color: #008000\">FUNCTION.pdf'</span>,\n",
       "                <span style=\"color: #008000; text-decoration-color: #008000\">'heading'</span>: <span style=\"color: #008000; text-decoration-color: #008000\">'● Nursing Interventions'</span>,\n",
       "                <span style=\"color: #008000; text-decoration-color: #008000\">'page_no'</span>: <span style=\"color: #008080; text-decoration-color: #008080; font-weight: bold\">2</span>,\n",
       "                <span style=\"color: #008000; text-decoration-color: #008000\">'user_id'</span>: <span style=\"color: #008000; text-decoration-color: #008000\">'jiya'</span>\n",
       "            <span style=\"font-weight: bold\">}</span>\n",
       "        <span style=\"font-weight: bold\">]</span>\n",
       "    <span style=\"font-weight: bold\">]</span>,\n",
       "    <span style=\"color: #008000; text-decoration-color: #008000\">'documents'</span>: <span style=\"font-weight: bold\">[</span>\n",
       "        <span style=\"font-weight: bold\">[</span>\n",
       "            <span style=\"color: #008000; text-decoration-color: #008000\">\"Nursing Interventions :\\n1. Clear  liquid  diet,  with  nothing  by  mouth  (NPO)  from midnight the </span>\n",
       "<span style=\"color: #008000; text-decoration-color: #008000\">night before the study.\\n2. Patient is advised to not smoke or chew gum during the NPO period because these can </span>\n",
       "<span style=\"color: #008000; text-decoration-color: #008000\">increase gastric secretions and salivation.\\n3. Polyethylene glycol (PEG)-based solutions are considered the most </span>\n",
       "<span style=\"color: #008000; text-decoration-color: #008000\">effective bowel cleansing preparatory agent.\\n4. Oral  medications  are  withheld  on  the  morning  of  the study </span>\n",
       "<span style=\"color: #008000; text-decoration-color: #008000\">and  resumed  that  evening,  but  each  patient's medication regimen should be evaluated on an individual </span>\n",
       "<span style=\"color: #008000; text-decoration-color: #008000\">basis.\\n5. When a patient with insulin dependent diabetes is NPO, their insulin requirements will need  to be  </span>\n",
       "<span style=\"color: #008000; text-decoration-color: #008000\">adjusted accordingly.\\n6. Instruct pt to increase OFI after the procedure  to facilitate evacuation of stool and </span>\n",
       "<span style=\"color: #008000; text-decoration-color: #008000\">barium.\\n1. Low-residue diet 1 to 2 days before the test, a clear liquid diet and  a laxative  the  evening  </span>\n",
       "<span style=\"color: #008000; text-decoration-color: #008000\">before,  NPO  after midnight,  and  cleansing  enemas  until  returns  are  clear the following morning.\\n2. Enemas</span>\n",
       "<span style=\"color: #008000; text-decoration-color: #008000\">are contraindicated for pts with active\\n2\"</span>,\n",
       "            <span style=\"color: #008000; text-decoration-color: #008000\">'NURSING INTERVENTIONS\\n1. The patient is NPO for 8 to 12 hours before the procedure.\\n2. Any </span>\n",
       "<span style=\"color: #008000; text-decoration-color: #008000\">medications that affect gastric secretions are withheld for 24 to 48 hours before the test.\\n3. Smoking is not </span>\n",
       "<span style=\"color: #008000; text-decoration-color: #008000\">allowed on the morning of the test.\\n4. Place pt in a semi-reclining position.\\n5. Inform pt that a small </span>\n",
       "<span style=\"color: #008000; text-decoration-color: #008000\">nasogastric tube with a catheter tip marked at various  points  is inserted  through  the  nose.  The  entire  </span>\n",
       "<span style=\"color: #008000; text-decoration-color: #008000\">stomach contents are aspirated by gentle suction into a syringe, and gastric samples are collected every 15 minutes</span>\n",
       "<span style=\"color: #008000; text-decoration-color: #008000\">for the next hour.'</span>,\n",
       "            <span style=\"color: #008000; text-decoration-color: #008000\">'● Nursing Interventions\\n:\\n1. Instruct pt.  to  fast  for  8-12  hours  before  ultrasound </span>\n",
       "<span style=\"color: #008000; text-decoration-color: #008000\">testing.\\n2. If  gallbladder  studies  are  being  3275  performed, the patient should eat a fat-free meal the </span>\n",
       "<span style=\"color: #008000; text-decoration-color: #008000\">evening before the test.\\n3. If  barium studies are to be performed, they should be scheduled after </span>\n",
       "<span style=\"color: #008000; text-decoration-color: #008000\">ultrasonography.\\n4. Patients who receive moderate sedation are observed for  about  1  hour  to  assess  for level</span>\n",
       "<span style=\"color: #008000; text-decoration-color: #008000\">of consciousness, orientation, and ability to ambulate.\\n5. Patients  treated  on  an  outpatient  basis  are  </span>\n",
       "<span style=\"color: #008000; text-decoration-color: #008000\">given instructions regarding diet, activity, and how to monitor for complications.'</span>\n",
       "        <span style=\"font-weight: bold\">]</span>\n",
       "    <span style=\"font-weight: bold\">]</span>,\n",
       "    <span style=\"color: #008000; text-decoration-color: #008000\">'uris'</span>: <span style=\"color: #800080; text-decoration-color: #800080; font-style: italic\">None</span>,\n",
       "    <span style=\"color: #008000; text-decoration-color: #008000\">'data'</span>: <span style=\"color: #800080; text-decoration-color: #800080; font-style: italic\">None</span>,\n",
       "    <span style=\"color: #008000; text-decoration-color: #008000\">'included'</span>: <span style=\"font-weight: bold\">[</span><span style=\"color: #008000; text-decoration-color: #008000\">'distances'</span>, <span style=\"color: #008000; text-decoration-color: #008000\">'documents'</span>, <span style=\"color: #008000; text-decoration-color: #008000\">'metadatas'</span><span style=\"font-weight: bold\">]</span>\n",
       "<span style=\"font-weight: bold\">}</span>\n",
       "</pre>\n"
      ],
      "text/plain": [
       "\u001b[1m{\u001b[0m\n",
       "    \u001b[32m'ids'\u001b[0m: \u001b[1m[\u001b[0m\u001b[1m[\u001b[0m\u001b[32m'9tkIlw-GCYLqPiru48knp'\u001b[0m, \u001b[32m'pmU-Igw167TooAnmgGv5P'\u001b[0m, \u001b[32m'PFC71O1G4tWccO6aBOeKq'\u001b[0m\u001b[1m]\u001b[0m\u001b[1m]\u001b[0m,\n",
       "    \u001b[32m'distances'\u001b[0m: \u001b[1m[\u001b[0m\u001b[1m[\u001b[0m\u001b[1;36m0.8048333758256015\u001b[0m, \u001b[1;36m0.822055825525987\u001b[0m, \u001b[1;36m0.8433847393001588\u001b[0m\u001b[1m]\u001b[0m\u001b[1m]\u001b[0m,\n",
       "    \u001b[32m'embeddings'\u001b[0m: \u001b[3;35mNone\u001b[0m,\n",
       "    \u001b[32m'metadatas'\u001b[0m: \u001b[1m[\u001b[0m\n",
       "        \u001b[1m[\u001b[0m\n",
       "            \u001b[1m{\u001b[0m\n",
       "                \u001b[32m'filename'\u001b[0m: \u001b[32m'NRG 304 LEC_ WEEK 2_CHAPTER 1 ASSESSMENT OF THE DIGESTIVE AND GASTROINTESTINAL \u001b[0m\n",
       "\u001b[32mFUNCTION.pdf'\u001b[0m,\n",
       "                \u001b[32m'heading'\u001b[0m: \u001b[32m'Nursing Interventions :'\u001b[0m,\n",
       "                \u001b[32m'page_no'\u001b[0m: \u001b[1;36m2\u001b[0m,\n",
       "                \u001b[32m'user_id'\u001b[0m: \u001b[32m'jiya'\u001b[0m\n",
       "            \u001b[1m}\u001b[0m,\n",
       "            \u001b[1m{\u001b[0m\n",
       "                \u001b[32m'filename'\u001b[0m: \u001b[32m'NRG 304 LEC_ WEEK 2_CHAPTER 1 ASSESSMENT OF THE DIGESTIVE AND GASTROINTESTINAL \u001b[0m\n",
       "\u001b[32mFUNCTION.pdf'\u001b[0m,\n",
       "                \u001b[32m'heading'\u001b[0m: \u001b[32m'NURSING INTERVENTIONS'\u001b[0m,\n",
       "                \u001b[32m'page_no'\u001b[0m: \u001b[1;36m4\u001b[0m,\n",
       "                \u001b[32m'user_id'\u001b[0m: \u001b[32m'jiya'\u001b[0m\n",
       "            \u001b[1m}\u001b[0m,\n",
       "            \u001b[1m{\u001b[0m\n",
       "                \u001b[32m'filename'\u001b[0m: \u001b[32m'NRG 304 LEC_ WEEK 2_CHAPTER 1 ASSESSMENT OF THE DIGESTIVE AND GASTROINTESTINAL \u001b[0m\n",
       "\u001b[32mFUNCTION.pdf'\u001b[0m,\n",
       "                \u001b[32m'heading'\u001b[0m: \u001b[32m'● Nursing Interventions'\u001b[0m,\n",
       "                \u001b[32m'page_no'\u001b[0m: \u001b[1;36m2\u001b[0m,\n",
       "                \u001b[32m'user_id'\u001b[0m: \u001b[32m'jiya'\u001b[0m\n",
       "            \u001b[1m}\u001b[0m\n",
       "        \u001b[1m]\u001b[0m\n",
       "    \u001b[1m]\u001b[0m,\n",
       "    \u001b[32m'documents'\u001b[0m: \u001b[1m[\u001b[0m\n",
       "        \u001b[1m[\u001b[0m\n",
       "            \u001b[32m\"Nursing Interventions :\\n1. Clear  liquid  diet,  with  nothing  by  mouth  \u001b[0m\u001b[32m(\u001b[0m\u001b[32mNPO\u001b[0m\u001b[32m)\u001b[0m\u001b[32m  from midnight the \u001b[0m\n",
       "\u001b[32mnight before the study.\\n2. Patient is advised to not smoke or chew gum during the NPO period because these can \u001b[0m\n",
       "\u001b[32mincrease gastric secretions and salivation.\\n3. Polyethylene glycol \u001b[0m\u001b[32m(\u001b[0m\u001b[32mPEG\u001b[0m\u001b[32m)\u001b[0m\u001b[32m-based solutions are considered the most \u001b[0m\n",
       "\u001b[32meffective bowel cleansing preparatory agent.\\n4. Oral  medications  are  withheld  on  the  morning  of  the study \u001b[0m\n",
       "\u001b[32mand  resumed  that  evening,  but  each  patient's medication regimen should be evaluated on an individual \u001b[0m\n",
       "\u001b[32mbasis.\\n5. When a patient with insulin dependent diabetes is NPO, their insulin requirements will need  to be  \u001b[0m\n",
       "\u001b[32madjusted accordingly.\\n6. Instruct pt to increase OFI after the procedure  to facilitate evacuation of stool and \u001b[0m\n",
       "\u001b[32mbarium.\\n1. Low-residue diet 1 to 2 days before the test, a clear liquid diet and  a laxative  the  evening  \u001b[0m\n",
       "\u001b[32mbefore,  NPO  after midnight,  and  cleansing  enemas  until  returns  are  clear the following morning.\\n2. Enemas\u001b[0m\n",
       "\u001b[32mare contraindicated for pts with active\\n2\"\u001b[0m,\n",
       "            \u001b[32m'NURSING INTERVENTIONS\\n1. The patient is NPO for 8 to 12 hours before the procedure.\\n2. Any \u001b[0m\n",
       "\u001b[32mmedications that affect gastric secretions are withheld for 24 to 48 hours before the test.\\n3. Smoking is not \u001b[0m\n",
       "\u001b[32mallowed on the morning of the test.\\n4. Place pt in a semi-reclining position.\\n5. Inform pt that a small \u001b[0m\n",
       "\u001b[32mnasogastric tube with a catheter tip marked at various  points  is inserted  through  the  nose.  The  entire  \u001b[0m\n",
       "\u001b[32mstomach contents are aspirated by gentle suction into a syringe, and gastric samples are collected every 15 minutes\u001b[0m\n",
       "\u001b[32mfor the next hour.'\u001b[0m,\n",
       "            \u001b[32m'● Nursing Interventions\\n:\\n1. Instruct pt.  to  fast  for  8-12  hours  before  ultrasound \u001b[0m\n",
       "\u001b[32mtesting.\\n2. If  gallbladder  studies  are  being  3275  performed, the patient should eat a fat-free meal the \u001b[0m\n",
       "\u001b[32mevening before the test.\\n3. If  barium studies are to be performed, they should be scheduled after \u001b[0m\n",
       "\u001b[32multrasonography.\\n4. Patients who receive moderate sedation are observed for  about  1  hour  to  assess  for level\u001b[0m\n",
       "\u001b[32mof consciousness, orientation, and ability to ambulate.\\n5. Patients  treated  on  an  outpatient  basis  are  \u001b[0m\n",
       "\u001b[32mgiven instructions regarding diet, activity, and how to monitor for complications.'\u001b[0m\n",
       "        \u001b[1m]\u001b[0m\n",
       "    \u001b[1m]\u001b[0m,\n",
       "    \u001b[32m'uris'\u001b[0m: \u001b[3;35mNone\u001b[0m,\n",
       "    \u001b[32m'data'\u001b[0m: \u001b[3;35mNone\u001b[0m,\n",
       "    \u001b[32m'included'\u001b[0m: \u001b[1m[\u001b[0m\u001b[32m'distances'\u001b[0m, \u001b[32m'documents'\u001b[0m, \u001b[32m'metadatas'\u001b[0m\u001b[1m]\u001b[0m\n",
       "\u001b[1m}\u001b[0m\n"
      ]
     },
     "metadata": {},
     "output_type": "display_data"
    }
   ],
   "source": [
    "print(query_result)"
   ]
  },
  {
   "cell_type": "code",
   "execution_count": 106,
   "metadata": {},
   "outputs": [
    {
     "data": {
      "text/html": [
       "<pre style=\"white-space:pre;overflow-x:auto;line-height:normal;font-family:Menlo,'DejaVu Sans Mono',consolas,'Courier New',monospace\">Nursing Interventions :\n",
       "<span style=\"color: #008080; text-decoration-color: #008080; font-weight: bold\">1</span>. Clear  liquid  diet,  with  nothing  by  mouth  <span style=\"font-weight: bold\">(</span>NPO<span style=\"font-weight: bold\">)</span>  from midnight the night before the study.\n",
       "<span style=\"color: #008080; text-decoration-color: #008080; font-weight: bold\">2</span>. Patient is advised to not smoke or chew gum during the NPO period because these can increase gastric secretions \n",
       "and salivation.\n",
       "<span style=\"color: #008080; text-decoration-color: #008080; font-weight: bold\">3</span>. Polyethylene glycol <span style=\"font-weight: bold\">(</span>PEG<span style=\"font-weight: bold\">)</span>-based solutions are considered the most effective bowel cleansing preparatory agent.\n",
       "<span style=\"color: #008080; text-decoration-color: #008080; font-weight: bold\">4</span>. Oral  medications  are  withheld  on  the  morning  of  the study  and  resumed  that  evening,  but  each  \n",
       "patient's medication regimen should be evaluated on an individual basis.\n",
       "<span style=\"color: #008080; text-decoration-color: #008080; font-weight: bold\">5</span>. When a patient with insulin dependent diabetes is NPO, their insulin requirements will need  to be  adjusted \n",
       "accordingly.\n",
       "<span style=\"color: #008080; text-decoration-color: #008080; font-weight: bold\">6</span>. Instruct pt to increase OFI after the procedure  to facilitate evacuation of stool and barium.\n",
       "<span style=\"color: #008080; text-decoration-color: #008080; font-weight: bold\">1</span>. Low-residue diet <span style=\"color: #008080; text-decoration-color: #008080; font-weight: bold\">1</span> to <span style=\"color: #008080; text-decoration-color: #008080; font-weight: bold\">2</span> days before the test, a clear liquid diet and  a laxative  the  evening  before,  NPO  \n",
       "after midnight,  and  cleansing  enemas  until  returns  are  clear the following morning.\n",
       "<span style=\"color: #008080; text-decoration-color: #008080; font-weight: bold\">2</span>. Enemas are contraindicated for pts with active\n",
       "<span style=\"color: #008080; text-decoration-color: #008080; font-weight: bold\">2</span>\n",
       "</pre>\n"
      ],
      "text/plain": [
       "Nursing Interventions :\n",
       "\u001b[1;36m1\u001b[0m. Clear  liquid  diet,  with  nothing  by  mouth  \u001b[1m(\u001b[0mNPO\u001b[1m)\u001b[0m  from midnight the night before the study.\n",
       "\u001b[1;36m2\u001b[0m. Patient is advised to not smoke or chew gum during the NPO period because these can increase gastric secretions \n",
       "and salivation.\n",
       "\u001b[1;36m3\u001b[0m. Polyethylene glycol \u001b[1m(\u001b[0mPEG\u001b[1m)\u001b[0m-based solutions are considered the most effective bowel cleansing preparatory agent.\n",
       "\u001b[1;36m4\u001b[0m. Oral  medications  are  withheld  on  the  morning  of  the study  and  resumed  that  evening,  but  each  \n",
       "patient's medication regimen should be evaluated on an individual basis.\n",
       "\u001b[1;36m5\u001b[0m. When a patient with insulin dependent diabetes is NPO, their insulin requirements will need  to be  adjusted \n",
       "accordingly.\n",
       "\u001b[1;36m6\u001b[0m. Instruct pt to increase OFI after the procedure  to facilitate evacuation of stool and barium.\n",
       "\u001b[1;36m1\u001b[0m. Low-residue diet \u001b[1;36m1\u001b[0m to \u001b[1;36m2\u001b[0m days before the test, a clear liquid diet and  a laxative  the  evening  before,  NPO  \n",
       "after midnight,  and  cleansing  enemas  until  returns  are  clear the following morning.\n",
       "\u001b[1;36m2\u001b[0m. Enemas are contraindicated for pts with active\n",
       "\u001b[1;36m2\u001b[0m\n"
      ]
     },
     "metadata": {},
     "output_type": "display_data"
    },
    {
     "data": {
      "text/html": [
       "<pre style=\"white-space:pre;overflow-x:auto;line-height:normal;font-family:Menlo,'DejaVu Sans Mono',consolas,'Courier New',monospace\">Source: NRG <span style=\"color: #008080; text-decoration-color: #008080; font-weight: bold\">304</span> LEC_ WEEK 2_CHAPTER <span style=\"color: #008080; text-decoration-color: #008080; font-weight: bold\">1</span> ASSESSMENT OF THE DIGESTIVE AND GASTROINTESTINAL FUNCTION.pdf, Page: <span style=\"color: #008080; text-decoration-color: #008080; font-weight: bold\">2</span>\n",
       "</pre>\n"
      ],
      "text/plain": [
       "Source: NRG \u001b[1;36m304\u001b[0m LEC_ WEEK 2_CHAPTER \u001b[1;36m1\u001b[0m ASSESSMENT OF THE DIGESTIVE AND GASTROINTESTINAL FUNCTION.pdf, Page: \u001b[1;36m2\u001b[0m\n"
      ]
     },
     "metadata": {},
     "output_type": "display_data"
    },
    {
     "data": {
      "text/html": [
       "<pre style=\"white-space:pre;overflow-x:auto;line-height:normal;font-family:Menlo,'DejaVu Sans Mono',consolas,'Courier New',monospace\">NURSING INTERVENTIONS\n",
       "<span style=\"color: #008080; text-decoration-color: #008080; font-weight: bold\">1</span>. The patient is NPO for <span style=\"color: #008080; text-decoration-color: #008080; font-weight: bold\">8</span> to <span style=\"color: #008080; text-decoration-color: #008080; font-weight: bold\">12</span> hours before the procedure.\n",
       "<span style=\"color: #008080; text-decoration-color: #008080; font-weight: bold\">2</span>. Any medications that affect gastric secretions are withheld for <span style=\"color: #008080; text-decoration-color: #008080; font-weight: bold\">24</span> to <span style=\"color: #008080; text-decoration-color: #008080; font-weight: bold\">48</span> hours before the test.\n",
       "<span style=\"color: #008080; text-decoration-color: #008080; font-weight: bold\">3</span>. Smoking is not allowed on the morning of the test.\n",
       "<span style=\"color: #008080; text-decoration-color: #008080; font-weight: bold\">4</span>. Place pt in a semi-reclining position.\n",
       "<span style=\"color: #008080; text-decoration-color: #008080; font-weight: bold\">5</span>. Inform pt that a small nasogastric tube with a catheter tip marked at various  points  is inserted  through  the\n",
       "nose.  The  entire  stomach contents are aspirated by gentle suction into a syringe, and gastric samples are \n",
       "collected every <span style=\"color: #008080; text-decoration-color: #008080; font-weight: bold\">15</span> minutes for the next hour.\n",
       "</pre>\n"
      ],
      "text/plain": [
       "NURSING INTERVENTIONS\n",
       "\u001b[1;36m1\u001b[0m. The patient is NPO for \u001b[1;36m8\u001b[0m to \u001b[1;36m12\u001b[0m hours before the procedure.\n",
       "\u001b[1;36m2\u001b[0m. Any medications that affect gastric secretions are withheld for \u001b[1;36m24\u001b[0m to \u001b[1;36m48\u001b[0m hours before the test.\n",
       "\u001b[1;36m3\u001b[0m. Smoking is not allowed on the morning of the test.\n",
       "\u001b[1;36m4\u001b[0m. Place pt in a semi-reclining position.\n",
       "\u001b[1;36m5\u001b[0m. Inform pt that a small nasogastric tube with a catheter tip marked at various  points  is inserted  through  the\n",
       "nose.  The  entire  stomach contents are aspirated by gentle suction into a syringe, and gastric samples are \n",
       "collected every \u001b[1;36m15\u001b[0m minutes for the next hour.\n"
      ]
     },
     "metadata": {},
     "output_type": "display_data"
    },
    {
     "data": {
      "text/html": [
       "<pre style=\"white-space:pre;overflow-x:auto;line-height:normal;font-family:Menlo,'DejaVu Sans Mono',consolas,'Courier New',monospace\">Source: NRG <span style=\"color: #008080; text-decoration-color: #008080; font-weight: bold\">304</span> LEC_ WEEK 2_CHAPTER <span style=\"color: #008080; text-decoration-color: #008080; font-weight: bold\">1</span> ASSESSMENT OF THE DIGESTIVE AND GASTROINTESTINAL FUNCTION.pdf, Page: <span style=\"color: #008080; text-decoration-color: #008080; font-weight: bold\">4</span>\n",
       "</pre>\n"
      ],
      "text/plain": [
       "Source: NRG \u001b[1;36m304\u001b[0m LEC_ WEEK 2_CHAPTER \u001b[1;36m1\u001b[0m ASSESSMENT OF THE DIGESTIVE AND GASTROINTESTINAL FUNCTION.pdf, Page: \u001b[1;36m4\u001b[0m\n"
      ]
     },
     "metadata": {},
     "output_type": "display_data"
    },
    {
     "data": {
      "text/html": [
       "<pre style=\"white-space:pre;overflow-x:auto;line-height:normal;font-family:Menlo,'DejaVu Sans Mono',consolas,'Courier New',monospace\">● Nursing Interventions\n",
       ":\n",
       "<span style=\"color: #008080; text-decoration-color: #008080; font-weight: bold\">1</span>. Instruct pt.  to  fast  for  <span style=\"color: #008080; text-decoration-color: #008080; font-weight: bold\">8</span>-<span style=\"color: #008080; text-decoration-color: #008080; font-weight: bold\">12</span>  hours  before  ultrasound testing.\n",
       "<span style=\"color: #008080; text-decoration-color: #008080; font-weight: bold\">2</span>. If  gallbladder  studies  are  being  <span style=\"color: #008080; text-decoration-color: #008080; font-weight: bold\">3275</span>  performed, the patient should eat a fat-free meal the evening before\n",
       "the test.\n",
       "<span style=\"color: #008080; text-decoration-color: #008080; font-weight: bold\">3</span>. If  barium studies are to be performed, they should be scheduled after ultrasonography.\n",
       "<span style=\"color: #008080; text-decoration-color: #008080; font-weight: bold\">4</span>. Patients who receive moderate sedation are observed for  about  <span style=\"color: #008080; text-decoration-color: #008080; font-weight: bold\">1</span>  hour  to  assess  for level of consciousness,\n",
       "orientation, and ability to ambulate.\n",
       "<span style=\"color: #008080; text-decoration-color: #008080; font-weight: bold\">5</span>. Patients  treated  on  an  outpatient  basis  are  given instructions regarding diet, activity, and how to \n",
       "monitor for complications.\n",
       "</pre>\n"
      ],
      "text/plain": [
       "● Nursing Interventions\n",
       ":\n",
       "\u001b[1;36m1\u001b[0m. Instruct pt.  to  fast  for  \u001b[1;36m8\u001b[0m-\u001b[1;36m12\u001b[0m  hours  before  ultrasound testing.\n",
       "\u001b[1;36m2\u001b[0m. If  gallbladder  studies  are  being  \u001b[1;36m3275\u001b[0m  performed, the patient should eat a fat-free meal the evening before\n",
       "the test.\n",
       "\u001b[1;36m3\u001b[0m. If  barium studies are to be performed, they should be scheduled after ultrasonography.\n",
       "\u001b[1;36m4\u001b[0m. Patients who receive moderate sedation are observed for  about  \u001b[1;36m1\u001b[0m  hour  to  assess  for level of consciousness,\n",
       "orientation, and ability to ambulate.\n",
       "\u001b[1;36m5\u001b[0m. Patients  treated  on  an  outpatient  basis  are  given instructions regarding diet, activity, and how to \n",
       "monitor for complications.\n"
      ]
     },
     "metadata": {},
     "output_type": "display_data"
    },
    {
     "data": {
      "text/html": [
       "<pre style=\"white-space:pre;overflow-x:auto;line-height:normal;font-family:Menlo,'DejaVu Sans Mono',consolas,'Courier New',monospace\">Source: NRG <span style=\"color: #008080; text-decoration-color: #008080; font-weight: bold\">304</span> LEC_ WEEK 2_CHAPTER <span style=\"color: #008080; text-decoration-color: #008080; font-weight: bold\">1</span> ASSESSMENT OF THE DIGESTIVE AND GASTROINTESTINAL FUNCTION.pdf, Page: <span style=\"color: #008080; text-decoration-color: #008080; font-weight: bold\">2</span>\n",
       "</pre>\n"
      ],
      "text/plain": [
       "Source: NRG \u001b[1;36m304\u001b[0m LEC_ WEEK 2_CHAPTER \u001b[1;36m1\u001b[0m ASSESSMENT OF THE DIGESTIVE AND GASTROINTESTINAL FUNCTION.pdf, Page: \u001b[1;36m2\u001b[0m\n"
      ]
     },
     "metadata": {},
     "output_type": "display_data"
    }
   ],
   "source": [
    "documents = query_result[\"documents\"][0]\n",
    "metadatas = query_result[\"metadatas\"][0]\n",
    "\n",
    "for doc, metadata in zip(documents, metadatas):\n",
    "\tprint(doc)\n",
    "\tprint(f\"Source: {metadata['filename']}, Page: {metadata['page_no']}\")"
   ]
  },
  {
   "cell_type": "markdown",
   "metadata": {},
   "source": [
    "#### Response augmenting with deepseek r1"
   ]
  },
  {
   "cell_type": "code",
   "execution_count": 107,
   "metadata": {},
   "outputs": [],
   "source": [
    "class Reference(BaseModel):\n",
    "\tcontent: str\n",
    "\tpage_number: int\n",
    "\tfilename: str\n",
    "\theading: str"
   ]
  },
  {
   "cell_type": "code",
   "execution_count": 108,
   "metadata": {},
   "outputs": [
    {
     "data": {
      "text/plain": [
       "[[\"Nursing Interventions :\\n1. Clear  liquid  diet,  with  nothing  by  mouth  (NPO)  from midnight the night before the study.\\n2. Patient is advised to not smoke or chew gum during the NPO period because these can increase gastric secretions and salivation.\\n3. Polyethylene glycol (PEG)-based solutions are considered the most effective bowel cleansing preparatory agent.\\n4. Oral  medications  are  withheld  on  the  morning  of  the study  and  resumed  that  evening,  but  each  patient's medication regimen should be evaluated on an individual basis.\\n5. When a patient with insulin dependent diabetes is NPO, their insulin requirements will need  to be  adjusted accordingly.\\n6. Instruct pt to increase OFI after the procedure  to facilitate evacuation of stool and barium.\\n1. Low-residue diet 1 to 2 days before the test, a clear liquid diet and  a laxative  the  evening  before,  NPO  after midnight,  and  cleansing  enemas  until  returns  are  clear the following morning.\\n2. Enemas are contraindicated for pts with active\\n2\",\n",
       "  'NURSING INTERVENTIONS\\n1. The patient is NPO for 8 to 12 hours before the procedure.\\n2. Any medications that affect gastric secretions are withheld for 24 to 48 hours before the test.\\n3. Smoking is not allowed on the morning of the test.\\n4. Place pt in a semi-reclining position.\\n5. Inform pt that a small nasogastric tube with a catheter tip marked at various  points  is inserted  through  the  nose.  The  entire  stomach contents are aspirated by gentle suction into a syringe, and gastric samples are collected every 15 minutes for the next hour.',\n",
       "  '● Nursing Interventions\\n:\\n1. Instruct pt.  to  fast  for  8-12  hours  before  ultrasound testing.\\n2. If  gallbladder  studies  are  being  3275  performed, the patient should eat a fat-free meal the evening before the test.\\n3. If  barium studies are to be performed, they should be scheduled after ultrasonography.\\n4. Patients who receive moderate sedation are observed for  about  1  hour  to  assess  for level of consciousness, orientation, and ability to ambulate.\\n5. Patients  treated  on  an  outpatient  basis  are  given instructions regarding diet, activity, and how to monitor for complications.']]"
      ]
     },
     "execution_count": 108,
     "metadata": {},
     "output_type": "execute_result"
    }
   ],
   "source": [
    "query_result['documents']"
   ]
  },
  {
   "cell_type": "code",
   "execution_count": 109,
   "metadata": {},
   "outputs": [],
   "source": [
    "references: list[Reference] = []\n",
    "for metadata, document in zip(query_result[\"metadatas\"][0], query_result[\"documents\"][0]):\n",
    "\treferences.append(\n",
    "\t\tReference(\n",
    "\t\t\tcontent=document,\n",
    "\t\t\tpage_number=metadata['page_no'],\n",
    "\t\t\tfilename=metadata['filename'],\n",
    "\t\t\theading=metadata['heading']\n",
    "\t\t)\n",
    "\t)"
   ]
  },
  {
   "cell_type": "code",
   "execution_count": 113,
   "metadata": {},
   "outputs": [],
   "source": [
    "class AgentDependencies(BaseModel):\n",
    "\treferences: list[Reference]\n",
    "\n",
    "model = OpenAIModel(\n",
    "\t'google/gemini-2.0-flash-thinking-exp:free',\n",
    "\tbase_url=os.getenv(\"OPEN_ROUTER_BASE_URL\"),\n",
    "\tapi_key=os.getenv(\"OPEN_ROUTER_API_KEY\"),\n",
    ")\n",
    "\n",
    "agent = Agent(\n",
    "\tmodel=model,\n",
    "\tdeps_type=AgentDependencies,\n",
    "\tresult_type=str,\n",
    "\tsystem_prompt=\"\"\"\n",
    "\t\t# Role\n",
    "\t\tYou are a helpful medical assistant. \n",
    "\t\t\n",
    "\t\t# Task\n",
    "\t\tYou are tasked to answer a question based on a set of documents that you have been provided with and then explain based on what your know about the matter. \n",
    "\t\tPlease provide a detailed and accurate answer to the question.\n",
    "\t\tAlways include the references.\n",
    "\n",
    "\t\"\"\",\n",
    ")\n",
    "\n",
    "\n",
    "@agent.system_prompt\n",
    "async def add_references(\n",
    "\tctx: RunContext[AgentDependencies],\n",
    ") -> str:\n",
    "\treferences = ctx.deps.references\n",
    "\n",
    "\treturn f\"\"\"\n",
    "\t\t# References\n",
    "\t\t{'\\n'.join([json.dumps(references[0].model_dump()) for reference in references])}\n",
    "\n",
    "\t\"\"\""
   ]
  },
  {
   "cell_type": "code",
   "execution_count": 114,
   "metadata": {},
   "outputs": [],
   "source": [
    "result = await agent.run(\n",
    "\t\"can you explain me how the nursing interventions for upper gastrointestinal tract study are done\",\n",
    "\tdeps = AgentDependencies(\n",
    "\t\treferences = references\n",
    "\t)\n",
    ")"
   ]
  },
  {
   "cell_type": "code",
   "execution_count": 115,
   "metadata": {},
   "outputs": [
    {
     "data": {
      "text/html": [
       "<pre style=\"white-space:pre;overflow-x:auto;line-height:normal;font-family:Menlo,'DejaVu Sans Mono',consolas,'Courier New',monospace\">Upper gastrointestinal tract studies require specific nursing interventions to ensure the procedure's success and \n",
       "patient safety.  Based on the provided documents, here's how nursing interventions are performed:\n",
       "\n",
       "**Pre-Procedure Interventions:**\n",
       "\n",
       "<span style=\"color: #008080; text-decoration-color: #008080; font-weight: bold\">1</span>.  **Dietary Restrictions:** Patients are typically placed on a **clear liquid diet** starting the day before the \n",
       "study.  They must also be **NPO <span style=\"font-weight: bold\">(</span>nothing by mouth<span style=\"font-weight: bold\">)</span>** from midnight the night before. This restriction is crucial to\n",
       "ensure the stomach is empty for optimal visualization during the study. <span style=\"font-weight: bold\">(</span>Reference:  <span style=\"color: #008000; text-decoration-color: #008000\">\"Nursing Interventions :\"</span>, \n",
       "<span style=\"color: #008000; text-decoration-color: #008000\">\"page_number\"</span>: <span style=\"color: #008080; text-decoration-color: #008080; font-weight: bold\">2</span>, <span style=\"color: #008000; text-decoration-color: #008000\">\"filename\"</span>: <span style=\"color: #008000; text-decoration-color: #008000\">\"NRG 304 LEC_ WEEK 2_CHAPTER 1 ASSESSMENT OF THE DIGESTIVE AND GASTROINTESTINAL </span>\n",
       "<span style=\"color: #008000; text-decoration-color: #008000\">FUNCTION.pdf\"</span>, <span style=\"color: #008000; text-decoration-color: #008000\">\"heading\"</span>: <span style=\"color: #008000; text-decoration-color: #008000\">\"Nursing Interventions :\"</span>, intervention <span style=\"color: #008080; text-decoration-color: #008080; font-weight: bold\">1</span><span style=\"font-weight: bold\">)</span>\n",
       "\n",
       "<span style=\"color: #008080; text-decoration-color: #008080; font-weight: bold\">2</span>.  **Avoid Stimulants:** Patients should be advised **not to smoke or chew gum** during the NPO period. These \n",
       "activities can increase gastric secretions and salivation, potentially interfering with the study. <span style=\"font-weight: bold\">(</span>Reference: \n",
       "<span style=\"color: #008000; text-decoration-color: #008000\">\"Nursing Interventions :\"</span>, <span style=\"color: #008000; text-decoration-color: #008000\">\"page_number\"</span>: <span style=\"color: #008080; text-decoration-color: #008080; font-weight: bold\">2</span>, <span style=\"color: #008000; text-decoration-color: #008000\">\"filename\"</span>: <span style=\"color: #008000; text-decoration-color: #008000\">\"NRG 304 LEC_ WEEK 2_CHAPTER 1 ASSESSMENT OF THE DIGESTIVE</span>\n",
       "<span style=\"color: #008000; text-decoration-color: #008000\">AND GASTROINTESTINAL FUNCTION.pdf\"</span>, <span style=\"color: #008000; text-decoration-color: #008000\">\"heading\"</span>: <span style=\"color: #008000; text-decoration-color: #008000\">\"Nursing Interventions :\"</span>, intervention <span style=\"color: #008080; text-decoration-color: #008080; font-weight: bold\">2</span><span style=\"font-weight: bold\">)</span>\n",
       "\n",
       "<span style=\"color: #008080; text-decoration-color: #008080; font-weight: bold\">3</span>.  **Bowel Preparation <span style=\"font-weight: bold\">(</span>General<span style=\"font-weight: bold\">)</span>:** Although the documents mention bowel cleansing, and specifically Polyethylene \n",
       "glycol <span style=\"font-weight: bold\">(</span>PEG<span style=\"font-weight: bold\">)</span>-based solutions as effective, this is generally more focused on lower GI studies.  However, some level\n",
       "of bowel preparation may still be advised depending on the specific upper GI study being performed. In some cases, \n",
       "a **low-residue diet** for <span style=\"color: #008080; text-decoration-color: #008080; font-weight: bold\">1</span>-<span style=\"color: #008080; text-decoration-color: #008080; font-weight: bold\">2</span> days before, followed by a clear liquid diet and potentially a **laxative** the \n",
       "evening before *might* be suggested, although not explicitly stated for *upper* GI studies in these documents. \n",
       "<span style=\"font-weight: bold\">(</span>Reference: <span style=\"color: #008000; text-decoration-color: #008000\">\"Nursing Interventions :\"</span>, <span style=\"color: #008000; text-decoration-color: #008000\">\"page_number\"</span>: <span style=\"color: #008080; text-decoration-color: #008080; font-weight: bold\">2</span>, <span style=\"color: #008000; text-decoration-color: #008000\">\"filename\"</span>: <span style=\"color: #008000; text-decoration-color: #008000\">\"NRG 304 LEC_ WEEK 2_CHAPTER 1 ASSESSMENT OF </span>\n",
       "<span style=\"color: #008000; text-decoration-color: #008000\">THE DIGESTIVE AND GASTROINTESTINAL FUNCTION.pdf\"</span>, <span style=\"color: #008000; text-decoration-color: #008000\">\"heading\"</span>: <span style=\"color: #008000; text-decoration-color: #008000\">\"Nursing Interventions :\"</span>, intervention <span style=\"color: #008080; text-decoration-color: #008080; font-weight: bold\">3</span> and the \n",
       "numbered list following intervention <span style=\"color: #008080; text-decoration-color: #008080; font-weight: bold\">6</span><span style=\"font-weight: bold\">)</span>.  **Cleansing enemas** are mentioned but are generally for lower bowel \n",
       "preparation and are **contraindicated for patients with active conditions** <span style=\"font-weight: bold\">(</span>Reference: <span style=\"color: #008000; text-decoration-color: #008000\">\"Nursing Interventions :\"</span>, \n",
       "<span style=\"color: #008000; text-decoration-color: #008000\">\"page_number\"</span>: <span style=\"color: #008080; text-decoration-color: #008080; font-weight: bold\">2</span>, <span style=\"color: #008000; text-decoration-color: #008000\">\"filename\"</span>: <span style=\"color: #008000; text-decoration-color: #008000\">\"NRG 304 LEC_ WEEK 2_CHAPTER 1 ASSESSMENT OF THE DIGESTIVE AND GASTROINTESTINAL </span>\n",
       "<span style=\"color: #008000; text-decoration-color: #008000\">FUNCTION.pdf\"</span>, <span style=\"color: #008000; text-decoration-color: #008000\">\"heading\"</span>: <span style=\"color: #008000; text-decoration-color: #008000\">\"Nursing Interventions :\"</span>, numbered list point <span style=\"color: #008080; text-decoration-color: #008080; font-weight: bold\">2</span><span style=\"font-weight: bold\">)</span>.\n",
       "\n",
       "<span style=\"color: #008080; text-decoration-color: #008080; font-weight: bold\">4</span>.  **Medication Management:**  **Oral medications are typically withheld** on the morning of the study and resumed\n",
       "that evening. However, it's emphasized that **each patient's medication regimen should be evaluated individually.**\n",
       "This is especially important for patients with conditions like **insulin-dependent diabetes**.  If a diabetic \n",
       "patient is NPO, their **insulin requirements will need to be adjusted accordingly** to prevent hypoglycemia. \n",
       "<span style=\"font-weight: bold\">(</span>Reference: <span style=\"color: #008000; text-decoration-color: #008000\">\"Nursing Interventions :\"</span>, <span style=\"color: #008000; text-decoration-color: #008000\">\"page_number\"</span>: <span style=\"color: #008080; text-decoration-color: #008080; font-weight: bold\">2</span>, <span style=\"color: #008000; text-decoration-color: #008000\">\"filename\"</span>: <span style=\"color: #008000; text-decoration-color: #008000\">\"NRG 304 LEC_ WEEK 2_CHAPTER 1 ASSESSMENT OF </span>\n",
       "<span style=\"color: #008000; text-decoration-color: #008000\">THE DIGESTIVE AND GASTROINTESTINAL FUNCTION.pdf\"</span>, <span style=\"color: #008000; text-decoration-color: #008000\">\"heading\"</span>: <span style=\"color: #008000; text-decoration-color: #008000\">\"Nursing Interventions :\"</span>, interventions <span style=\"color: #008080; text-decoration-color: #008080; font-weight: bold\">4</span> and <span style=\"color: #008080; text-decoration-color: #008080; font-weight: bold\">5</span><span style=\"font-weight: bold\">)</span>\n",
       "\n",
       "**Post-Procedure Interventions:**\n",
       "\n",
       "<span style=\"color: #008080; text-decoration-color: #008080; font-weight: bold\">1</span>.  **Increase Oral Fluid Intake <span style=\"font-weight: bold\">(</span>OFI<span style=\"font-weight: bold\">)</span>:** After the procedure, patients are instructed to **increase oral fluid \n",
       "intake <span style=\"font-weight: bold\">(</span>OFI<span style=\"font-weight: bold\">)</span>**. This is to facilitate the evacuation of stool and any contrast medium, like barium, that might have\n",
       "been used during the study <span style=\"font-weight: bold\">(</span>although barium is more common in lower GI series; for upper GI, water-soluble contrast\n",
       "might be used<span style=\"font-weight: bold\">)</span>. <span style=\"font-weight: bold\">(</span>Reference: <span style=\"color: #008000; text-decoration-color: #008000\">\"Nursing Interventions :\"</span>, <span style=\"color: #008000; text-decoration-color: #008000\">\"page_number\"</span>: <span style=\"color: #008080; text-decoration-color: #008080; font-weight: bold\">2</span>, <span style=\"color: #008000; text-decoration-color: #008000\">\"filename\"</span>: <span style=\"color: #008000; text-decoration-color: #008000\">\"NRG 304 LEC_ WEEK 2_CHAPTER 1</span>\n",
       "<span style=\"color: #008000; text-decoration-color: #008000\">ASSESSMENT OF THE DIGESTIVE AND GASTROINTESTINAL FUNCTION.pdf\"</span>, <span style=\"color: #008000; text-decoration-color: #008000\">\"heading\"</span>: <span style=\"color: #008000; text-decoration-color: #008000\">\"Nursing Interventions :\"</span>, intervention \n",
       "<span style=\"color: #008080; text-decoration-color: #008080; font-weight: bold\">6</span><span style=\"font-weight: bold\">)</span>\n",
       "\n",
       "\n",
       "**Explanation based on General Knowledge:**\n",
       "\n",
       "Upper gastrointestinal studies, such as esophagogastroduodenoscopy <span style=\"font-weight: bold\">(</span>EGD<span style=\"font-weight: bold\">)</span> or barium swallow, require the upper \n",
       "digestive tract to be clear for accurate visualization and diagnosis.\n",
       "\n",
       "*   **NPO Status:**  An empty stomach is essential to prevent aspiration if sedation is used, and to allow the \n",
       "endoscope or contrast material to visualize the lining of the esophagus, stomach, and duodenum clearly.\n",
       "*   **Dietary Restrictions:** Clear liquid diets help minimize residue in the digestive tract, further improving \n",
       "visualization. Low-residue diets beforehand help to reduce stool bulk generally.\n",
       "*   **Medication Considerations:** Withholding oral medications is important as they might interfere with the \n",
       "procedure or absorption could be altered due to NPO status.  Specific medications like insulin require adjustment \n",
       "to prevent complications related to fasting.\n",
       "*   **Post-procedure hydration:** Increasing fluids after the procedure helps to rehydrate the patient, especially \n",
       "after bowel preparation and fasting, and if contrast was used, to aid in its excretion.\n",
       "\n",
       "While the documents provided describe general gastrointestinal preparation, the core principles of NPO, dietary \n",
       "modifications, medication management, and post-procedure hydration are fundamental nursing interventions applicable\n",
       "to upper gastrointestinal studies to ensure patient safety and the accuracy of the diagnostic procedure.\n",
       "</pre>\n"
      ],
      "text/plain": [
       "Upper gastrointestinal tract studies require specific nursing interventions to ensure the procedure's success and \n",
       "patient safety.  Based on the provided documents, here's how nursing interventions are performed:\n",
       "\n",
       "**Pre-Procedure Interventions:**\n",
       "\n",
       "\u001b[1;36m1\u001b[0m.  **Dietary Restrictions:** Patients are typically placed on a **clear liquid diet** starting the day before the \n",
       "study.  They must also be **NPO \u001b[1m(\u001b[0mnothing by mouth\u001b[1m)\u001b[0m** from midnight the night before. This restriction is crucial to\n",
       "ensure the stomach is empty for optimal visualization during the study. \u001b[1m(\u001b[0mReference:  \u001b[32m\"Nursing Interventions :\"\u001b[0m, \n",
       "\u001b[32m\"page_number\"\u001b[0m: \u001b[1;36m2\u001b[0m, \u001b[32m\"filename\"\u001b[0m: \u001b[32m\"NRG 304 LEC_ WEEK 2_CHAPTER 1 ASSESSMENT OF THE DIGESTIVE AND GASTROINTESTINAL \u001b[0m\n",
       "\u001b[32mFUNCTION.pdf\"\u001b[0m, \u001b[32m\"heading\"\u001b[0m: \u001b[32m\"Nursing Interventions :\"\u001b[0m, intervention \u001b[1;36m1\u001b[0m\u001b[1m)\u001b[0m\n",
       "\n",
       "\u001b[1;36m2\u001b[0m.  **Avoid Stimulants:** Patients should be advised **not to smoke or chew gum** during the NPO period. These \n",
       "activities can increase gastric secretions and salivation, potentially interfering with the study. \u001b[1m(\u001b[0mReference: \n",
       "\u001b[32m\"Nursing Interventions :\"\u001b[0m, \u001b[32m\"page_number\"\u001b[0m: \u001b[1;36m2\u001b[0m, \u001b[32m\"filename\"\u001b[0m: \u001b[32m\"NRG 304 LEC_ WEEK 2_CHAPTER 1 ASSESSMENT OF THE DIGESTIVE\u001b[0m\n",
       "\u001b[32mAND GASTROINTESTINAL FUNCTION.pdf\"\u001b[0m, \u001b[32m\"heading\"\u001b[0m: \u001b[32m\"Nursing Interventions :\"\u001b[0m, intervention \u001b[1;36m2\u001b[0m\u001b[1m)\u001b[0m\n",
       "\n",
       "\u001b[1;36m3\u001b[0m.  **Bowel Preparation \u001b[1m(\u001b[0mGeneral\u001b[1m)\u001b[0m:** Although the documents mention bowel cleansing, and specifically Polyethylene \n",
       "glycol \u001b[1m(\u001b[0mPEG\u001b[1m)\u001b[0m-based solutions as effective, this is generally more focused on lower GI studies.  However, some level\n",
       "of bowel preparation may still be advised depending on the specific upper GI study being performed. In some cases, \n",
       "a **low-residue diet** for \u001b[1;36m1\u001b[0m-\u001b[1;36m2\u001b[0m days before, followed by a clear liquid diet and potentially a **laxative** the \n",
       "evening before *might* be suggested, although not explicitly stated for *upper* GI studies in these documents. \n",
       "\u001b[1m(\u001b[0mReference: \u001b[32m\"Nursing Interventions :\"\u001b[0m, \u001b[32m\"page_number\"\u001b[0m: \u001b[1;36m2\u001b[0m, \u001b[32m\"filename\"\u001b[0m: \u001b[32m\"NRG 304 LEC_ WEEK 2_CHAPTER 1 ASSESSMENT OF \u001b[0m\n",
       "\u001b[32mTHE DIGESTIVE AND GASTROINTESTINAL FUNCTION.pdf\"\u001b[0m, \u001b[32m\"heading\"\u001b[0m: \u001b[32m\"Nursing Interventions :\"\u001b[0m, intervention \u001b[1;36m3\u001b[0m and the \n",
       "numbered list following intervention \u001b[1;36m6\u001b[0m\u001b[1m)\u001b[0m.  **Cleansing enemas** are mentioned but are generally for lower bowel \n",
       "preparation and are **contraindicated for patients with active conditions** \u001b[1m(\u001b[0mReference: \u001b[32m\"Nursing Interventions :\"\u001b[0m, \n",
       "\u001b[32m\"page_number\"\u001b[0m: \u001b[1;36m2\u001b[0m, \u001b[32m\"filename\"\u001b[0m: \u001b[32m\"NRG 304 LEC_ WEEK 2_CHAPTER 1 ASSESSMENT OF THE DIGESTIVE AND GASTROINTESTINAL \u001b[0m\n",
       "\u001b[32mFUNCTION.pdf\"\u001b[0m, \u001b[32m\"heading\"\u001b[0m: \u001b[32m\"Nursing Interventions :\"\u001b[0m, numbered list point \u001b[1;36m2\u001b[0m\u001b[1m)\u001b[0m.\n",
       "\n",
       "\u001b[1;36m4\u001b[0m.  **Medication Management:**  **Oral medications are typically withheld** on the morning of the study and resumed\n",
       "that evening. However, it's emphasized that **each patient's medication regimen should be evaluated individually.**\n",
       "This is especially important for patients with conditions like **insulin-dependent diabetes**.  If a diabetic \n",
       "patient is NPO, their **insulin requirements will need to be adjusted accordingly** to prevent hypoglycemia. \n",
       "\u001b[1m(\u001b[0mReference: \u001b[32m\"Nursing Interventions :\"\u001b[0m, \u001b[32m\"page_number\"\u001b[0m: \u001b[1;36m2\u001b[0m, \u001b[32m\"filename\"\u001b[0m: \u001b[32m\"NRG 304 LEC_ WEEK 2_CHAPTER 1 ASSESSMENT OF \u001b[0m\n",
       "\u001b[32mTHE DIGESTIVE AND GASTROINTESTINAL FUNCTION.pdf\"\u001b[0m, \u001b[32m\"heading\"\u001b[0m: \u001b[32m\"Nursing Interventions :\"\u001b[0m, interventions \u001b[1;36m4\u001b[0m and \u001b[1;36m5\u001b[0m\u001b[1m)\u001b[0m\n",
       "\n",
       "**Post-Procedure Interventions:**\n",
       "\n",
       "\u001b[1;36m1\u001b[0m.  **Increase Oral Fluid Intake \u001b[1m(\u001b[0mOFI\u001b[1m)\u001b[0m:** After the procedure, patients are instructed to **increase oral fluid \n",
       "intake \u001b[1m(\u001b[0mOFI\u001b[1m)\u001b[0m**. This is to facilitate the evacuation of stool and any contrast medium, like barium, that might have\n",
       "been used during the study \u001b[1m(\u001b[0malthough barium is more common in lower GI series; for upper GI, water-soluble contrast\n",
       "might be used\u001b[1m)\u001b[0m. \u001b[1m(\u001b[0mReference: \u001b[32m\"Nursing Interventions :\"\u001b[0m, \u001b[32m\"page_number\"\u001b[0m: \u001b[1;36m2\u001b[0m, \u001b[32m\"filename\"\u001b[0m: \u001b[32m\"NRG 304 LEC_ WEEK 2_CHAPTER 1\u001b[0m\n",
       "\u001b[32mASSESSMENT OF THE DIGESTIVE AND GASTROINTESTINAL FUNCTION.pdf\"\u001b[0m, \u001b[32m\"heading\"\u001b[0m: \u001b[32m\"Nursing Interventions :\"\u001b[0m, intervention \n",
       "\u001b[1;36m6\u001b[0m\u001b[1m)\u001b[0m\n",
       "\n",
       "\n",
       "**Explanation based on General Knowledge:**\n",
       "\n",
       "Upper gastrointestinal studies, such as esophagogastroduodenoscopy \u001b[1m(\u001b[0mEGD\u001b[1m)\u001b[0m or barium swallow, require the upper \n",
       "digestive tract to be clear for accurate visualization and diagnosis.\n",
       "\n",
       "*   **NPO Status:**  An empty stomach is essential to prevent aspiration if sedation is used, and to allow the \n",
       "endoscope or contrast material to visualize the lining of the esophagus, stomach, and duodenum clearly.\n",
       "*   **Dietary Restrictions:** Clear liquid diets help minimize residue in the digestive tract, further improving \n",
       "visualization. Low-residue diets beforehand help to reduce stool bulk generally.\n",
       "*   **Medication Considerations:** Withholding oral medications is important as they might interfere with the \n",
       "procedure or absorption could be altered due to NPO status.  Specific medications like insulin require adjustment \n",
       "to prevent complications related to fasting.\n",
       "*   **Post-procedure hydration:** Increasing fluids after the procedure helps to rehydrate the patient, especially \n",
       "after bowel preparation and fasting, and if contrast was used, to aid in its excretion.\n",
       "\n",
       "While the documents provided describe general gastrointestinal preparation, the core principles of NPO, dietary \n",
       "modifications, medication management, and post-procedure hydration are fundamental nursing interventions applicable\n",
       "to upper gastrointestinal studies to ensure patient safety and the accuracy of the diagnostic procedure.\n"
      ]
     },
     "metadata": {},
     "output_type": "display_data"
    }
   ],
   "source": [
    "print(result.data)"
   ]
  },
  {
   "cell_type": "markdown",
   "metadata": {},
   "source": [
    "### Stage 2: Agentic RAG System\n",
    "\n",
    "The **Agentic Layer** adds an intelligent routing mechanism to the RAG system. Instead of simply retrieving data from a static source, the system will decide where to get the most relevant information based on the context of the query and whether the query pertains to the nursing handbooks or her personal study notes.\n",
    "\n",
    "#### Steps:\n",
    "\n",
    "0. **Incorporate Personal Study Notes (Transes)**:\n",
    "   - Personal study notes (transes) are documents or annotations written by the user, capturing key insights, case studies, or specific experiences.\n",
    "   - These notes will be embedded in the same way as the nursing handbooks and stored in the same vector database.\n",
    "\n",
    "1. **Agent Routes the Query**:\n",
    "   - When a user (nursing student) asks a question, the **agent** will decide whether to retrieve data from the nursing handbooks or her personal study notes.\n",
    "   - The agent will consider:\n",
    "     - The **context** of the question (general knowledge vs. personalized experiences).\n",
    "     - Whether her **personal study notes** are more relevant (e.g., if she’s already written notes on a particular case or condition).\n",
    "     - If the query is general, the agent will prioritize retrieving information from the **nursing handbooks**.\n",
    "\n",
    "2. **Retrieve from Both Sources**:\n",
    "   - The system retrieves information from both the **nursing handbooks** and **personal study notes** based on the agent’s decision.\n",
    "   - If the question pertains to something she has written down in her personal notes, the agent will prioritize retrieving those, combining them with general knowledge from the handbooks.\n",
    "\n",
    "3. **Augment Response Using Deepseek LLM**:\n",
    "   - The retrieved content from both sources is fed to the **Deepseek LLM**, which will merge the insights and generate a complete response.\n",
    "   - The LLM will ensure the answer is not only accurate but also personalized based on the notes, making it more useful and contextually rich.\n"
   ]
  }
 ],
 "metadata": {
  "kernelspec": {
   "display_name": ".venv",
   "language": "python",
   "name": "python3"
  },
  "language_info": {
   "codemirror_mode": {
    "name": "ipython",
    "version": 3
   },
   "file_extension": ".py",
   "mimetype": "text/x-python",
   "name": "python",
   "nbconvert_exporter": "python",
   "pygments_lexer": "ipython3",
   "version": "3.12.3"
  }
 },
 "nbformat": 4,
 "nbformat_minor": 2
}
