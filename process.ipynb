{
 "cells": [
  {
   "cell_type": "markdown",
   "metadata": {},
   "source": [
    "# Project Prototype: Agentic RAG System with Nursing Handbooks and Transes as Knowledge Base"
   ]
  },
  {
   "cell_type": "markdown",
   "metadata": {},
   "source": [
    "The goal of this project is to create an **Agentic RAG-based system** that helps nursing students retrieve relevant information from nursing handbooks and their personal study notes. This system will augment the responses with context from the personal notes, making it more personalized and adaptive to the user's learning."
   ]
  },
  {
   "cell_type": "markdown",
   "metadata": {},
   "source": [
    "## Flow Overview\n",
    "\n",
    "The project involves two primary stages:\n",
    "1. **Prepopulating the Vector DB** (embedding the nursing handbooks and personal notes into a database)\n",
    "2. **RAG Modeling** (retrieving relevant information and augmenting responses using both the handbooks and personal notes)\n",
    "\n",
    "Additionally, there will be an **Agentic Layer** that intelligently routes queries to the appropriate source (nursing handbooks or personal study notes)."
   ]
  },
  {
   "cell_type": "markdown",
   "metadata": {},
   "source": [
    "### Technologies to use\n",
    "\n",
    "- **Docling**: For parsing the nursing handbooks and personal notes\n",
    "- **OpenAI Embedding Model (large)**: For embedding both nursing handbooks and personal study notes.\n",
    "- **ChromaDB**: For storing and querying the embeddings.\n",
    "- **Deepseek LLM**: For augmenting responses based on the retrieved content.\n",
    "- **Pydantic AI**: For AI agent intelligently routing queries between the nursing handbooks and personal notes. \n",
    "- **Pydantic**: For type safety and data validation.\n",
    "- **FastAPI**: For building the API.\n",
    "- **Docker**: For containerization and deployment.\n",
    "- **Pydantic Graphs**: For workflow pipelines"
   ]
  },
  {
   "cell_type": "markdown",
   "metadata": {},
   "source": [
    "## Initialization"
   ]
  },
  {
   "cell_type": "code",
   "execution_count": null,
   "metadata": {},
   "outputs": [],
   "source": [
    "import os\n",
    "import joblib\n",
    "import threading\n",
    "import asyncio\n",
    "import chromadb\n",
    "import nanoid\n",
    "from pathlib import Path\n",
    "import concurrent.futures\n",
    "from rich import print\n",
    "from docling.document_converter import DocumentConverter\n",
    "from abc import ABC, abstractmethod\n",
    "import chromadb.utils.embedding_functions as embedding_functions\n",
    "from docling_core.transforms.chunker.hierarchical_chunker import DocChunk\n",
    "from pydantic import BaseModel\n",
    "from docling.chunking import HybridChunker\n",
    "\n",
    "from dotenv import load_dotenv\n",
    "\n",
    "load_dotenv()\n",
    "knowledge_base_raw_path = './data/knowledge-base/raw/'\n",
    "knowledge_base_pickled_path = './data/knowledge-base/pickled/'"
   ]
  },
  {
   "cell_type": "markdown",
   "metadata": {},
   "source": [
    "### Stage 1: Prepopulate the Vector DB\n",
    "\n",
    "In this stage, we process nursing handbooks and personal study notes, embedding them into a vector database for efficient retrieval during RAG modeling.\n",
    "\n",
    "#### Steps:\n",
    "\n",
    "1. **Upload Nursing Handbooks**:\n",
    "   - Upload nursing handbooks in popular formats like PDF or DOCX.\n",
    "   - These documents may include textbooks on topics like **medical-surgical nursing, pharmacology, pediatric nursing**, and other specialized nursing areas.\n",
    "\n",
    "2. **Parsing the documents and retaining the page metadata**:\n",
    "   - Use **Docling** to convert nursing handbooks and personal notes docling document.\n",
    "   - The conversion ensures that the pdf metadata are preserved, making it easier for the AI to process.\n",
    "\n",
    "3. **Generate Embeddings**:\n",
    "   - Use **OpenAI's large embedding model** to convert the nursing handbooks and personal notes into embeddings. These embeddings will capture the semantic meaning of each section, allowing for efficient similarity-based searches.\n",
    "   - Both the nursing handbooks and the personal study notes will be embedded into the vector database.\n",
    "\n",
    "4. **Save to Vector DB (ChromaDB)**:\n",
    "   - Store the generated embeddings in **ChromaDB** for fast retrieval during RAG modeling.\n",
    "   - The vector database will allow the system to quickly access the most relevant information when a query is made.\n",
    "\n",
    "**Note**: Converting and embedding long documents like nursing handbooks may take some time (e.g., **15-30 minutes** per document).\n",
    "\n"
   ]
  },
  {
   "cell_type": "code",
   "execution_count": 154,
   "metadata": {},
   "outputs": [
    {
     "data": {
      "text/plain": [
       "['Handbook of Clinical Nursing_ Medical-Surgical Nursing -- Joyce Fitzpatrick -- 2018 -- Springer Publishing Company -- 9780826130785 -- 26f2533f396508e653d45e0e76aadc53 -- Anna’s Archive.pdf',\n",
       " 'NRG 304 LEC_ WEEK 2_CHAPTER 1 ASSESSMENT OF THE DIGESTIVE AND GASTROINTESTINAL FUNCTION.pdf']"
      ]
     },
     "execution_count": 154,
     "metadata": {},
     "output_type": "execute_result"
    }
   ],
   "source": [
    "# List the raw files to convert\n",
    "os.listdir(knowledge_base_raw_path)"
   ]
  },
  {
   "cell_type": "code",
   "execution_count": 155,
   "metadata": {},
   "outputs": [
    {
     "data": {
      "text/html": [
       "<pre style=\"white-space:pre;overflow-x:auto;line-height:normal;font-family:Menlo,'DejaVu Sans Mono',consolas,'Courier New',monospace\">File `Handbook of Clinical Nursing_ Medical-Surgical Nursing -- Joyce Fitzpatrick -- <span style=\"color: #008080; text-decoration-color: #008080; font-weight: bold\">2018</span> -- Springer P`<span style=\"color: #808000; text-decoration-color: #808000\">...</span> is \n",
       "already pickled.\n",
       "</pre>\n"
      ],
      "text/plain": [
       "File `Handbook of Clinical Nursing_ Medical-Surgical Nursing -- Joyce Fitzpatrick -- \u001b[1;36m2018\u001b[0m -- Springer P`\u001b[33m...\u001b[0m is \n",
       "already pickled.\n"
      ]
     },
     "metadata": {},
     "output_type": "display_data"
    },
    {
     "data": {
      "text/html": [
       "<pre style=\"white-space:pre;overflow-x:auto;line-height:normal;font-family:Menlo,'DejaVu Sans Mono',consolas,'Courier New',monospace\">File `NRG <span style=\"color: #008080; text-decoration-color: #008080; font-weight: bold\">304</span> LEC_ WEEK 2_CHAPTER <span style=\"color: #008080; text-decoration-color: #008080; font-weight: bold\">1</span> ASSESSMENT OF THE DIGESTIVE AND GASTROINTESTINAL FUNCTION.pdf`<span style=\"color: #808000; text-decoration-color: #808000\">...</span> is already \n",
       "pickled.\n",
       "</pre>\n"
      ],
      "text/plain": [
       "File `NRG \u001b[1;36m304\u001b[0m LEC_ WEEK 2_CHAPTER \u001b[1;36m1\u001b[0m ASSESSMENT OF THE DIGESTIVE AND GASTROINTESTINAL FUNCTION.pdf`\u001b[33m...\u001b[0m is already \n",
       "pickled.\n"
      ]
     },
     "metadata": {},
     "output_type": "display_data"
    }
   ],
   "source": [
    "document_converter = DocumentConverter()\n",
    "\n",
    "knowledge_base_raw_files = os.listdir(knowledge_base_raw_path)\n",
    "knowledge_base_pickled_files = os.listdir(knowledge_base_pickled_path)\n",
    "\n",
    "for file in knowledge_base_raw_files:\n",
    "\tfile_path = os.path.join(knowledge_base_raw_path, file)\n",
    "\tfile_name = os.path.splitext(file)[0]\n",
    "\n",
    "\t# Check if not file \n",
    "\tif not os.path.isfile(file_path):\n",
    "\t\tcontinue\n",
    "\n",
    "\t# Check if file is already pickled\n",
    "\tif f\"{file_name}.docling\" in knowledge_base_pickled_files:\n",
    "\t\tprint(f\"File `{file[:97]}`... is already pickled.\")\n",
    "\t\tcontinue\n",
    "\n",
    "\t# Pickling the document to retain the metadata (there is currently no way to get the paging metadata from exported md)\n",
    "\tprint(f\"Pickling file: `{file[:97]}`...\")\n",
    "\tconversion_result = document_converter.convert(file_path)\n",
    "\t\n",
    "\tjoblib.dump(\n",
    "\t\tconversion_result.document, \n",
    "\t\tos.path.join(knowledge_base_pickled_path, f\"{file_name}.docling\"),\n",
    "\t\tcompress=3\n",
    "\t)"
   ]
  },
  {
   "cell_type": "markdown",
   "metadata": {},
   "source": [
    "#### Create the collections"
   ]
  },
  {
   "cell_type": "code",
   "execution_count": 157,
   "metadata": {},
   "outputs": [],
   "source": [
    "chroma_client = await chromadb.AsyncHttpClient(host=\"localhost\", port=\"8001\")"
   ]
  },
  {
   "cell_type": "markdown",
   "metadata": {},
   "source": [
    "Using the OpenAI text-embedding-3-small model"
   ]
  },
  {
   "cell_type": "code",
   "execution_count": 159,
   "metadata": {},
   "outputs": [],
   "source": [
    "embed_fn_openai = embedding_functions.OpenAIEmbeddingFunction(\n",
    "\tapi_key=os.getenv(\"OPENAI_API_KEY\"),\n",
    "\tmodel_name=os.getenv(\"OPENAI_EMBEDDING_MODEL\"),\n",
    ")"
   ]
  },
  {
   "cell_type": "markdown",
   "metadata": {},
   "source": [
    "Creating the collections"
   ]
  },
  {
   "cell_type": "code",
   "execution_count": 160,
   "metadata": {},
   "outputs": [],
   "source": [
    "collection_base_documents = await chroma_client.get_or_create_collection(name=\"base_documents\", embedding_function=embed_fn_openai)"
   ]
  },
  {
   "cell_type": "markdown",
   "metadata": {},
   "source": [
    "Chunking the document the NRG 304 document as test"
   ]
  },
  {
   "cell_type": "code",
   "execution_count": 143,
   "metadata": {},
   "outputs": [],
   "source": [
    "document = joblib.load(os.path.join(\n",
    "\tknowledge_base_pickled_path, \n",
    "\t\"NRG 304 LEC_ WEEK 2_CHAPTER 1 ASSESSMENT OF THE DIGESTIVE AND GASTROINTESTINAL FUNCTION.docling\"\n",
    "))"
   ]
  },
  {
   "cell_type": "markdown",
   "metadata": {},
   "source": [
    "### Stage 2: RAG Modeling\n",
    "\n",
    "Once the vector database is populated, the system will retrieve relevant information from both nursing handbooks and personal study notes. The retrieval will be augmented using an LLM (Large Language Model) for more accurate and contextually rich responses.\n",
    "\n",
    "#### Steps:\n",
    "\n",
    "1. **Retrieve Relevant Information**:\n",
    "   - When a query is input by the user (e.g., \"What are the symptoms of diabetes?\"), the system will retrieve the most relevant content from the vector database.\n",
    "   - ChromaDB will find the sections of the nursing handbooks or personal study notes that are most similar to the query.\n",
    "\n",
    "2. **Augment Response Using Deepseek LLM**:\n",
    "   - The retrieved sections will be passed through the **Deepseek LLM**, which will generate a response based on the content of the handbooks and notes.\n",
    "   - The LLM will combine the relevant information and format it into a coherent, accurate response tailored to the question."
   ]
  },
  {
   "cell_type": "code",
   "execution_count": 144,
   "metadata": {},
   "outputs": [
    {
     "data": {
      "text/html": [
       "<pre style=\"white-space:pre;overflow-x:auto;line-height:normal;font-family:Menlo,'DejaVu Sans Mono',consolas,'Courier New',monospace\">=== <span style=\"color: #008080; text-decoration-color: #008080; font-weight: bold\">0</span> ===\n",
       "</pre>\n"
      ],
      "text/plain": [
       "=== \u001b[1;36m0\u001b[0m ===\n"
      ]
     },
     "metadata": {},
     "output_type": "display_data"
    },
    {
     "data": {
      "text/html": [
       "<pre style=\"white-space:pre;overflow-x:auto;line-height:normal;font-family:Menlo,'DejaVu Sans Mono',consolas,'Courier New',monospace\"><span style=\"font-weight: bold\">{</span>\n",
       "    <span style=\"color: #008000; text-decoration-color: #008000\">'schema_name'</span>: <span style=\"color: #008000; text-decoration-color: #008000\">'docling_core.transforms.chunker.DocMeta'</span>,\n",
       "    <span style=\"color: #008000; text-decoration-color: #008000\">'version'</span>: <span style=\"color: #008000; text-decoration-color: #008000\">'1.0.0'</span>,\n",
       "    <span style=\"color: #008000; text-decoration-color: #008000\">'doc_items'</span>: <span style=\"font-weight: bold\">[</span>\n",
       "        <span style=\"font-weight: bold\">{</span>\n",
       "            <span style=\"color: #008000; text-decoration-color: #008000\">'self_ref'</span>: <span style=\"color: #008000; text-decoration-color: #008000\">'#/tables/0'</span>,\n",
       "            <span style=\"color: #008000; text-decoration-color: #008000\">'parent'</span>: <span style=\"font-weight: bold\">{</span><span style=\"color: #008000; text-decoration-color: #008000\">'$ref'</span>: <span style=\"color: #008000; text-decoration-color: #008000\">'#/body'</span><span style=\"font-weight: bold\">}</span>,\n",
       "            <span style=\"color: #008000; text-decoration-color: #008000\">'children'</span>: <span style=\"font-weight: bold\">[]</span>,\n",
       "            <span style=\"color: #008000; text-decoration-color: #008000\">'content_layer'</span>: <span style=\"color: #008000; text-decoration-color: #008000\">'body'</span>,\n",
       "            <span style=\"color: #008000; text-decoration-color: #008000\">'label'</span>: <span style=\"color: #008000; text-decoration-color: #008000\">'table'</span>,\n",
       "            <span style=\"color: #008000; text-decoration-color: #008000\">'prov'</span>: <span style=\"font-weight: bold\">[</span>\n",
       "                <span style=\"font-weight: bold\">{</span>\n",
       "                    <span style=\"color: #008000; text-decoration-color: #008000\">'page_no'</span>: <span style=\"color: #008080; text-decoration-color: #008080; font-weight: bold\">1</span>,\n",
       "                    <span style=\"color: #008000; text-decoration-color: #008000\">'bbox'</span>: <span style=\"font-weight: bold\">{</span>\n",
       "                        <span style=\"color: #008000; text-decoration-color: #008000\">'l'</span>: <span style=\"color: #008080; text-decoration-color: #008080; font-weight: bold\">19.69459342956543</span>,\n",
       "                        <span style=\"color: #008000; text-decoration-color: #008000\">'t'</span>: <span style=\"color: #008080; text-decoration-color: #008080; font-weight: bold\">521.74951171875</span>,\n",
       "                        <span style=\"color: #008000; text-decoration-color: #008000\">'r'</span>: <span style=\"color: #008080; text-decoration-color: #008080; font-weight: bold\">280.4553527832031</span>,\n",
       "                        <span style=\"color: #008000; text-decoration-color: #008000\">'b'</span>: <span style=\"color: #008080; text-decoration-color: #008080; font-weight: bold\">293.35418701171875</span>,\n",
       "                        <span style=\"color: #008000; text-decoration-color: #008000\">'coord_origin'</span>: <span style=\"color: #008000; text-decoration-color: #008000\">'BOTTOMLEFT'</span>\n",
       "                    <span style=\"font-weight: bold\">}</span>,\n",
       "                    <span style=\"color: #008000; text-decoration-color: #008000\">'charspan'</span>: <span style=\"font-weight: bold\">[</span><span style=\"color: #008080; text-decoration-color: #008080; font-weight: bold\">0</span>, <span style=\"color: #008080; text-decoration-color: #008080; font-weight: bold\">0</span><span style=\"font-weight: bold\">]</span>\n",
       "                <span style=\"font-weight: bold\">}</span>\n",
       "            <span style=\"font-weight: bold\">]</span>\n",
       "        <span style=\"font-weight: bold\">}</span>\n",
       "    <span style=\"font-weight: bold\">]</span>,\n",
       "    <span style=\"color: #008000; text-decoration-color: #008000\">'headings'</span>: <span style=\"font-weight: bold\">[</span><span style=\"color: #008000; text-decoration-color: #008000\">'BRIEF REVIEW OF THE ANATOMY OF GIT'</span><span style=\"font-weight: bold\">]</span>,\n",
       "    <span style=\"color: #008000; text-decoration-color: #008000\">'origin'</span>: <span style=\"font-weight: bold\">{</span>\n",
       "        <span style=\"color: #008000; text-decoration-color: #008000\">'mimetype'</span>: <span style=\"color: #008000; text-decoration-color: #008000\">'application/pdf'</span>,\n",
       "        <span style=\"color: #008000; text-decoration-color: #008000\">'binary_hash'</span>: <span style=\"color: #008080; text-decoration-color: #008080; font-weight: bold\">7347013283832062728</span>,\n",
       "        <span style=\"color: #008000; text-decoration-color: #008000\">'filename'</span>: <span style=\"color: #008000; text-decoration-color: #008000\">'NRG 304 LEC_ WEEK 2_CHAPTER 1 ASSESSMENT OF THE DIGESTIVE AND GASTROINTESTINAL FUNCTION.pdf'</span>\n",
       "    <span style=\"font-weight: bold\">}</span>\n",
       "<span style=\"font-weight: bold\">}</span>\n",
       "</pre>\n"
      ],
      "text/plain": [
       "\u001b[1m{\u001b[0m\n",
       "    \u001b[32m'schema_name'\u001b[0m: \u001b[32m'docling_core.transforms.chunker.DocMeta'\u001b[0m,\n",
       "    \u001b[32m'version'\u001b[0m: \u001b[32m'1.0.0'\u001b[0m,\n",
       "    \u001b[32m'doc_items'\u001b[0m: \u001b[1m[\u001b[0m\n",
       "        \u001b[1m{\u001b[0m\n",
       "            \u001b[32m'self_ref'\u001b[0m: \u001b[32m'#/tables/0'\u001b[0m,\n",
       "            \u001b[32m'parent'\u001b[0m: \u001b[1m{\u001b[0m\u001b[32m'$ref'\u001b[0m: \u001b[32m'#/body'\u001b[0m\u001b[1m}\u001b[0m,\n",
       "            \u001b[32m'children'\u001b[0m: \u001b[1m[\u001b[0m\u001b[1m]\u001b[0m,\n",
       "            \u001b[32m'content_layer'\u001b[0m: \u001b[32m'body'\u001b[0m,\n",
       "            \u001b[32m'label'\u001b[0m: \u001b[32m'table'\u001b[0m,\n",
       "            \u001b[32m'prov'\u001b[0m: \u001b[1m[\u001b[0m\n",
       "                \u001b[1m{\u001b[0m\n",
       "                    \u001b[32m'page_no'\u001b[0m: \u001b[1;36m1\u001b[0m,\n",
       "                    \u001b[32m'bbox'\u001b[0m: \u001b[1m{\u001b[0m\n",
       "                        \u001b[32m'l'\u001b[0m: \u001b[1;36m19.69459342956543\u001b[0m,\n",
       "                        \u001b[32m't'\u001b[0m: \u001b[1;36m521.74951171875\u001b[0m,\n",
       "                        \u001b[32m'r'\u001b[0m: \u001b[1;36m280.4553527832031\u001b[0m,\n",
       "                        \u001b[32m'b'\u001b[0m: \u001b[1;36m293.35418701171875\u001b[0m,\n",
       "                        \u001b[32m'coord_origin'\u001b[0m: \u001b[32m'BOTTOMLEFT'\u001b[0m\n",
       "                    \u001b[1m}\u001b[0m,\n",
       "                    \u001b[32m'charspan'\u001b[0m: \u001b[1m[\u001b[0m\u001b[1;36m0\u001b[0m, \u001b[1;36m0\u001b[0m\u001b[1m]\u001b[0m\n",
       "                \u001b[1m}\u001b[0m\n",
       "            \u001b[1m]\u001b[0m\n",
       "        \u001b[1m}\u001b[0m\n",
       "    \u001b[1m]\u001b[0m,\n",
       "    \u001b[32m'headings'\u001b[0m: \u001b[1m[\u001b[0m\u001b[32m'BRIEF REVIEW OF THE ANATOMY OF GIT'\u001b[0m\u001b[1m]\u001b[0m,\n",
       "    \u001b[32m'origin'\u001b[0m: \u001b[1m{\u001b[0m\n",
       "        \u001b[32m'mimetype'\u001b[0m: \u001b[32m'application/pdf'\u001b[0m,\n",
       "        \u001b[32m'binary_hash'\u001b[0m: \u001b[1;36m7347013283832062728\u001b[0m,\n",
       "        \u001b[32m'filename'\u001b[0m: \u001b[32m'NRG 304 LEC_ WEEK 2_CHAPTER 1 ASSESSMENT OF THE DIGESTIVE AND GASTROINTESTINAL FUNCTION.pdf'\u001b[0m\n",
       "    \u001b[1m}\u001b[0m\n",
       "\u001b[1m}\u001b[0m\n"
      ]
     },
     "metadata": {},
     "output_type": "display_data"
    },
    {
     "data": {
      "text/html": [
       "<pre style=\"white-space:pre;overflow-x:auto;line-height:normal;font-family:Menlo,'DejaVu Sans Mono',consolas,'Courier New',monospace\">BRIEF REVIEW OF THE ANATOMY OF GIT\n",
       "Oral Cavity and Pharynx  ●  Injury/ loss or decay of teeth  ●  Atrophy of taste buds  ●  ↓ Saliva production  ●  \n",
       "Reduced ptyalin and amylase in saliva, Age-Related Changes in the Gastrointestinal System.Implications = Difficulty\n",
       "chewing and  swallowing. ●  ↓ Motility and emptying  ●  Weakened gag reflex  ●  ↓ Resting pressure of lower \n",
       "esophageal  sphincter\n",
       "</pre>\n"
      ],
      "text/plain": [
       "BRIEF REVIEW OF THE ANATOMY OF GIT\n",
       "Oral Cavity and Pharynx  ●  Injury/ loss or decay of teeth  ●  Atrophy of taste buds  ●  ↓ Saliva production  ●  \n",
       "Reduced ptyalin and amylase in saliva, Age-Related Changes in the Gastrointestinal System.Implications = Difficulty\n",
       "chewing and  swallowing. ●  ↓ Motility and emptying  ●  Weakened gag reflex  ●  ↓ Resting pressure of lower \n",
       "esophageal  sphincter\n"
      ]
     },
     "metadata": {},
     "output_type": "display_data"
    }
   ],
   "source": [
    "chunker = HybridChunker(max_tokens=100)\n",
    "chunk_iter = chunker.chunk(dl_doc=document)\n",
    "\n",
    "for i, chunk in enumerate(chunk_iter):\n",
    "\tprint(f\"=== {i} ===\")\n",
    "\tprint(chunk.meta.export_json_dict())\n",
    "\tenriched_text = chunker.serialize(chunk=chunk)\n",
    "\tprint(enriched_text)\n",
    "\tbreak"
   ]
  },
  {
   "cell_type": "code",
   "execution_count": 145,
   "metadata": {},
   "outputs": [],
   "source": [
    "class Metadata(BaseModel):\n",
    "\tuser_id: str\n",
    "\tfilename: str\n",
    "\theading: str\n",
    "\tpage_no: int\n",
    "\n",
    "class Records(BaseModel):\n",
    "\tdocuments: list[str] = []\n",
    "\tmetadatas: list[Metadata] = []\n",
    "\tids: list[str] = []"
   ]
  },
  {
   "cell_type": "code",
   "execution_count": 146,
   "metadata": {},
   "outputs": [],
   "source": [
    "chunker = HybridChunker(max_tokens=1000)\n",
    "chunk_iter = chunker.chunk(dl_doc=document)\n",
    "document_chunks = list(chunk_iter)\n",
    "\n",
    "records = Records()\n",
    "\n",
    "# Lock for thread-safe appends\n",
    "lock = threading.Lock()\n",
    "\n",
    "def extract_and_store(chunk: DocChunk):\n",
    "\tenriched_text = chunker.serialize(chunk=chunk)\n",
    "\tchunk_id = nanoid.generate()\n",
    "\tdoc_chunk_metadata = chunk.meta.export_json_dict()\n",
    "\tmetadata = Metadata(\n",
    "\t\tuser_id=\"jiya\",\n",
    "\t\tfilename=doc_chunk_metadata['origin']['filename'],\n",
    "\t\theading=doc_chunk_metadata['headings'][0],\n",
    "\t\tpage_no=doc_chunk_metadata['doc_items'][0]['prov'][0]['page_no']\n",
    "\t)\n",
    "\n",
    "\twith lock:\n",
    "\t\trecords.documents.append(enriched_text)\n",
    "\t\trecords.metadatas.append(metadata.model_dump())\n",
    "\t\trecords.ids.append(chunk_id)\n",
    "\n",
    "with concurrent.futures.ThreadPoolExecutor() as executor:\n",
    "\texecutor.map(extract_and_store, document_chunks)"
   ]
  },
  {
   "cell_type": "code",
   "execution_count": 161,
   "metadata": {},
   "outputs": [],
   "source": [
    "await collection_base_documents.add(\n",
    "\tdocuments=records.documents,\n",
    "\tmetadatas=records.metadatas,\n",
    "\tids=records.ids\n",
    ")"
   ]
  },
  {
   "cell_type": "code",
   "execution_count": 200,
   "metadata": {},
   "outputs": [],
   "source": [
    "query_result = await collection_base_documents.query(\n",
    "    query_texts=[\"what are the stool studies\"],\n",
    "    n_results=5,\n",
    "    where={\"user_id\": \"jiya\"},\n",
    ")"
   ]
  },
  {
   "cell_type": "code",
   "execution_count": 201,
   "metadata": {},
   "outputs": [
    {
     "data": {
      "text/html": [
       "<pre style=\"white-space:pre;overflow-x:auto;line-height:normal;font-family:Menlo,'DejaVu Sans Mono',consolas,'Courier New',monospace\"><span style=\"font-weight: bold\">{</span>\n",
       "    <span style=\"color: #008000; text-decoration-color: #008000\">'ids'</span>: <span style=\"font-weight: bold\">[</span>\n",
       "        <span style=\"font-weight: bold\">[</span>\n",
       "            <span style=\"color: #008000; text-decoration-color: #008000\">'QdcI5dpYEl4aEWz_YuDRa'</span>,\n",
       "            <span style=\"color: #008000; text-decoration-color: #008000\">'50BiMhJHXRbVtM1SDsTk7'</span>,\n",
       "            <span style=\"color: #008000; text-decoration-color: #008000\">'P-JSoDhr4oWryFymuaYJR'</span>,\n",
       "            <span style=\"color: #008000; text-decoration-color: #008000\">'lK6M3k1oAWdlE5RTolCHH'</span>,\n",
       "            <span style=\"color: #008000; text-decoration-color: #008000\">'Wx31s5t-XcVzqePwNLjvL'</span>\n",
       "        <span style=\"font-weight: bold\">]</span>\n",
       "    <span style=\"font-weight: bold\">]</span>,\n",
       "    <span style=\"color: #008000; text-decoration-color: #008000\">'distances'</span>: <span style=\"font-weight: bold\">[</span>\n",
       "        <span style=\"font-weight: bold\">[</span><span style=\"color: #008080; text-decoration-color: #008080; font-weight: bold\">0.5813929777069989</span>, <span style=\"color: #008080; text-decoration-color: #008080; font-weight: bold\">0.9317403510614783</span>, <span style=\"color: #008080; text-decoration-color: #008080; font-weight: bold\">0.9606079983486142</span>, <span style=\"color: #008080; text-decoration-color: #008080; font-weight: bold\">0.9681307638032123</span>, <span style=\"color: #008080; text-decoration-color: #008080; font-weight: bold\">0.9800254028454096</span><span style=\"font-weight: bold\">]</span>\n",
       "    <span style=\"font-weight: bold\">]</span>,\n",
       "    <span style=\"color: #008000; text-decoration-color: #008000\">'embeddings'</span>: <span style=\"color: #800080; text-decoration-color: #800080; font-style: italic\">None</span>,\n",
       "    <span style=\"color: #008000; text-decoration-color: #008000\">'metadatas'</span>: <span style=\"font-weight: bold\">[</span>\n",
       "        <span style=\"font-weight: bold\">[</span>\n",
       "            <span style=\"font-weight: bold\">{</span>\n",
       "                <span style=\"color: #008000; text-decoration-color: #008000\">'filename'</span>: <span style=\"color: #008000; text-decoration-color: #008000\">'NRG 304 LEC_ WEEK 2_CHAPTER 1 ASSESSMENT OF THE DIGESTIVE AND GASTROINTESTINAL </span>\n",
       "<span style=\"color: #008000; text-decoration-color: #008000\">FUNCTION.pdf'</span>,\n",
       "                <span style=\"color: #008000; text-decoration-color: #008000\">'heading'</span>: <span style=\"color: #008000; text-decoration-color: #008000\">'A. Stool Studies'</span>,\n",
       "                <span style=\"color: #008000; text-decoration-color: #008000\">'page_no'</span>: <span style=\"color: #008080; text-decoration-color: #008080; font-weight: bold\">2</span>,\n",
       "                <span style=\"color: #008000; text-decoration-color: #008000\">'user_id'</span>: <span style=\"color: #008000; text-decoration-color: #008000\">'jiya'</span>\n",
       "            <span style=\"font-weight: bold\">}</span>,\n",
       "            <span style=\"font-weight: bold\">{</span>\n",
       "                <span style=\"color: #008000; text-decoration-color: #008000\">'filename'</span>: <span style=\"color: #008000; text-decoration-color: #008000\">'NRG 304 LEC_ WEEK 2_CHAPTER 1 ASSESSMENT OF THE DIGESTIVE AND GASTROINTESTINAL </span>\n",
       "<span style=\"color: #008000; text-decoration-color: #008000\">FUNCTION.pdf'</span>,\n",
       "                <span style=\"color: #008000; text-decoration-color: #008000\">'heading'</span>: <span style=\"color: #008000; text-decoration-color: #008000\">'5. Changes in Bowel Habits and Stool Characteristics'</span>,\n",
       "                <span style=\"color: #008000; text-decoration-color: #008000\">'page_no'</span>: <span style=\"color: #008080; text-decoration-color: #008080; font-weight: bold\">1</span>,\n",
       "                <span style=\"color: #008000; text-decoration-color: #008000\">'user_id'</span>: <span style=\"color: #008000; text-decoration-color: #008000\">'jiya'</span>\n",
       "            <span style=\"font-weight: bold\">}</span>,\n",
       "            <span style=\"font-weight: bold\">{</span>\n",
       "                <span style=\"color: #008000; text-decoration-color: #008000\">'filename'</span>: <span style=\"color: #008000; text-decoration-color: #008000\">'NRG 304 LEC_ WEEK 2_CHAPTER 1 ASSESSMENT OF THE DIGESTIVE AND GASTROINTESTINAL </span>\n",
       "<span style=\"color: #008000; text-decoration-color: #008000\">FUNCTION.pdf'</span>,\n",
       "                <span style=\"color: #008000; text-decoration-color: #008000\">'heading'</span>: <span style=\"color: #008000; text-decoration-color: #008000\">'H. Manometry and Electrophysiologic Studies'</span>,\n",
       "                <span style=\"color: #008000; text-decoration-color: #008000\">'page_no'</span>: <span style=\"color: #008080; text-decoration-color: #008080; font-weight: bold\">4</span>,\n",
       "                <span style=\"color: #008000; text-decoration-color: #008000\">'user_id'</span>: <span style=\"color: #008000; text-decoration-color: #008000\">'jiya'</span>\n",
       "            <span style=\"font-weight: bold\">}</span>,\n",
       "            <span style=\"font-weight: bold\">{</span>\n",
       "                <span style=\"color: #008000; text-decoration-color: #008000\">'filename'</span>: <span style=\"color: #008000; text-decoration-color: #008000\">'NRG 304 LEC_ WEEK 2_CHAPTER 1 ASSESSMENT OF THE DIGESTIVE AND GASTROINTESTINAL </span>\n",
       "<span style=\"color: #008000; text-decoration-color: #008000\">FUNCTION.pdf'</span>,\n",
       "                <span style=\"color: #008000; text-decoration-color: #008000\">'heading'</span>: <span style=\"color: #008000; text-decoration-color: #008000\">'(3) Anoscopy, Proctoscopy, and Sigmoidoscopy'</span>,\n",
       "                <span style=\"color: #008000; text-decoration-color: #008000\">'page_no'</span>: <span style=\"color: #008080; text-decoration-color: #008080; font-weight: bold\">4</span>,\n",
       "                <span style=\"color: #008000; text-decoration-color: #008000\">'user_id'</span>: <span style=\"color: #008000; text-decoration-color: #008000\">'jiya'</span>\n",
       "            <span style=\"font-weight: bold\">}</span>,\n",
       "            <span style=\"font-weight: bold\">{</span>\n",
       "                <span style=\"color: #008000; text-decoration-color: #008000\">'filename'</span>: <span style=\"color: #008000; text-decoration-color: #008000\">'NRG 304 LEC_ WEEK 2_CHAPTER 1 ASSESSMENT OF THE DIGESTIVE AND GASTROINTESTINAL </span>\n",
       "<span style=\"color: #008000; text-decoration-color: #008000\">FUNCTION.pdf'</span>,\n",
       "                <span style=\"color: #008000; text-decoration-color: #008000\">'heading'</span>: <span style=\"color: #008000; text-decoration-color: #008000\">'(4) Small Bowel Studies'</span>,\n",
       "                <span style=\"color: #008000; text-decoration-color: #008000\">'page_no'</span>: <span style=\"color: #008080; text-decoration-color: #008080; font-weight: bold\">4</span>,\n",
       "                <span style=\"color: #008000; text-decoration-color: #008000\">'user_id'</span>: <span style=\"color: #008000; text-decoration-color: #008000\">'jiya'</span>\n",
       "            <span style=\"font-weight: bold\">}</span>\n",
       "        <span style=\"font-weight: bold\">]</span>\n",
       "    <span style=\"font-weight: bold\">]</span>,\n",
       "    <span style=\"color: #008000; text-decoration-color: #008000\">'documents'</span>: <span style=\"font-weight: bold\">[</span>\n",
       "        <span style=\"font-weight: bold\">[</span>\n",
       "            <span style=\"color: #008000; text-decoration-color: #008000\">'A. Stool Studies\\n● Basic Stool Exam\\n● Quantitative Study\\n● Fecal Occult Blood Testing\\n● Fecal </span>\n",
       "<span style=\"color: #008000; text-decoration-color: #008000\">Immunologic Testing (FIT)\\n● Stool DNA Testing'</span>,\n",
       "            <span style=\"color: #008000; text-decoration-color: #008000\">'5. Changes in Bowel Habits and Stool Characteristics\\na. Bulky  greasy,  foamy  stools  that  are  </span>\n",
       "<span style=\"color: #008000; text-decoration-color: #008000\">foul  in  odor  and may or may not float.\\nb. Light-gray or clay-colored stool, caused by a decrease or absence of </span>\n",
       "<span style=\"color: #008000; text-decoration-color: #008000\">conjugated bilirubin.\\nc. Stool with mucus threads or pus that may be visible on gross inspection of the stool.\\nd.</span>\n",
       "<span style=\"color: #008000; text-decoration-color: #008000\">Small,  dry,  rock-hard  masses  occasionally  streaked with blood.\\ne. Loose, watery stool that may or may not be </span>\n",
       "<span style=\"color: #008000; text-decoration-color: #008000\">streaked with blood.'</span>,\n",
       "            <span style=\"color: #008000; text-decoration-color: #008000\">'H. Manometry and Electrophysiologic Studies\\n● Rectal  sensory  function  studies  are  used  to  </span>\n",
       "<span style=\"color: #008000; text-decoration-color: #008000\">evaluate  rectal sensory function and neuropathy.\\n● Esophageal manometry is used to detect motility disorders of </span>\n",
       "<span style=\"color: #008000; text-decoration-color: #008000\">the esophagus and the upper and lower esophageal sphincter.\\n● Gastroduodenal, small intestine, and colonic </span>\n",
       "<span style=\"color: #008000; text-decoration-color: #008000\">manometry procedures are used to evaluate delayed gastric emptying and gastric  and  intestinal  motility  </span>\n",
       "<span style=\"color: #008000; text-decoration-color: #008000\">disorders  such  as  irritable  bowel syndrome or atonic colon.\\n● Electrogastrography,  an  electrophysiologic  </span>\n",
       "<span style=\"color: #008000; text-decoration-color: #008000\">study,  also  may  be performed  to  assess  gastric  motility  disturbances  and  can  be useful in detecting </span>\n",
       "<span style=\"color: #008000; text-decoration-color: #008000\">motor or nerve dysfunction in the stomach.\\n● Defecography  measures  anorectal  function  and  is  performed with </span>\n",
       "<span style=\"color: #008000; text-decoration-color: #008000\">very thick barium paste instilled into the rectum. Fluoroscopy is  used  to  assess  the function of the rectum and</span>\n",
       "<span style=\"color: #008000; text-decoration-color: #008000\">anal sphincter while the patient attempts to expel the barrium.'</span>,\n",
       "            <span style=\"color: #008000; text-decoration-color: #008000\">'(3) Anoscopy, Proctoscopy, and Sigmoidoscopy\\n● Endoscopic  examination  of the anus, rectum, and </span>\n",
       "<span style=\"color: #008000; text-decoration-color: #008000\">sigmoid and descending  colon  is  used  to  evaluate  chronic  diarrhea,  fecal incontinence, ischemic colitis, </span>\n",
       "<span style=\"color: #008000; text-decoration-color: #008000\">and lower GI hemorrhage and to observe for ulceration, fissures, abscesses, tumors, polyps, or other pathologic </span>\n",
       "<span style=\"color: #008000; text-decoration-color: #008000\">processes.'</span>,\n",
       "            <span style=\"color: #008000; text-decoration-color: #008000\">'(4) Small Bowel Studies\\n● Capsule  endoscopy  allows  the  noninvasive  visualization  of  the mucosa</span>\n",
       "<span style=\"color: #008000; text-decoration-color: #008000\">throughout  the  entire  small  intestine.  It  is  particularly useful in the evaluation of obscure GI bleeding\\n●</span>\n",
       "<span style=\"color: #008000; text-decoration-color: #008000\">Double-balloon enteroscopy has made it possible to visualize the mucosa of the entire small bowel as well as carry </span>\n",
       "<span style=\"color: #008000; text-decoration-color: #008000\">out diagnostic and therapeutic interventions'</span>\n",
       "        <span style=\"font-weight: bold\">]</span>\n",
       "    <span style=\"font-weight: bold\">]</span>,\n",
       "    <span style=\"color: #008000; text-decoration-color: #008000\">'uris'</span>: <span style=\"color: #800080; text-decoration-color: #800080; font-style: italic\">None</span>,\n",
       "    <span style=\"color: #008000; text-decoration-color: #008000\">'data'</span>: <span style=\"color: #800080; text-decoration-color: #800080; font-style: italic\">None</span>,\n",
       "    <span style=\"color: #008000; text-decoration-color: #008000\">'included'</span>: <span style=\"font-weight: bold\">[</span><span style=\"color: #008000; text-decoration-color: #008000\">'distances'</span>, <span style=\"color: #008000; text-decoration-color: #008000\">'documents'</span>, <span style=\"color: #008000; text-decoration-color: #008000\">'metadatas'</span><span style=\"font-weight: bold\">]</span>\n",
       "<span style=\"font-weight: bold\">}</span>\n",
       "</pre>\n"
      ],
      "text/plain": [
       "\u001b[1m{\u001b[0m\n",
       "    \u001b[32m'ids'\u001b[0m: \u001b[1m[\u001b[0m\n",
       "        \u001b[1m[\u001b[0m\n",
       "            \u001b[32m'QdcI5dpYEl4aEWz_YuDRa'\u001b[0m,\n",
       "            \u001b[32m'50BiMhJHXRbVtM1SDsTk7'\u001b[0m,\n",
       "            \u001b[32m'P-JSoDhr4oWryFymuaYJR'\u001b[0m,\n",
       "            \u001b[32m'lK6M3k1oAWdlE5RTolCHH'\u001b[0m,\n",
       "            \u001b[32m'Wx31s5t-XcVzqePwNLjvL'\u001b[0m\n",
       "        \u001b[1m]\u001b[0m\n",
       "    \u001b[1m]\u001b[0m,\n",
       "    \u001b[32m'distances'\u001b[0m: \u001b[1m[\u001b[0m\n",
       "        \u001b[1m[\u001b[0m\u001b[1;36m0.5813929777069989\u001b[0m, \u001b[1;36m0.9317403510614783\u001b[0m, \u001b[1;36m0.9606079983486142\u001b[0m, \u001b[1;36m0.9681307638032123\u001b[0m, \u001b[1;36m0.9800254028454096\u001b[0m\u001b[1m]\u001b[0m\n",
       "    \u001b[1m]\u001b[0m,\n",
       "    \u001b[32m'embeddings'\u001b[0m: \u001b[3;35mNone\u001b[0m,\n",
       "    \u001b[32m'metadatas'\u001b[0m: \u001b[1m[\u001b[0m\n",
       "        \u001b[1m[\u001b[0m\n",
       "            \u001b[1m{\u001b[0m\n",
       "                \u001b[32m'filename'\u001b[0m: \u001b[32m'NRG 304 LEC_ WEEK 2_CHAPTER 1 ASSESSMENT OF THE DIGESTIVE AND GASTROINTESTINAL \u001b[0m\n",
       "\u001b[32mFUNCTION.pdf'\u001b[0m,\n",
       "                \u001b[32m'heading'\u001b[0m: \u001b[32m'A. Stool Studies'\u001b[0m,\n",
       "                \u001b[32m'page_no'\u001b[0m: \u001b[1;36m2\u001b[0m,\n",
       "                \u001b[32m'user_id'\u001b[0m: \u001b[32m'jiya'\u001b[0m\n",
       "            \u001b[1m}\u001b[0m,\n",
       "            \u001b[1m{\u001b[0m\n",
       "                \u001b[32m'filename'\u001b[0m: \u001b[32m'NRG 304 LEC_ WEEK 2_CHAPTER 1 ASSESSMENT OF THE DIGESTIVE AND GASTROINTESTINAL \u001b[0m\n",
       "\u001b[32mFUNCTION.pdf'\u001b[0m,\n",
       "                \u001b[32m'heading'\u001b[0m: \u001b[32m'5. Changes in Bowel Habits and Stool Characteristics'\u001b[0m,\n",
       "                \u001b[32m'page_no'\u001b[0m: \u001b[1;36m1\u001b[0m,\n",
       "                \u001b[32m'user_id'\u001b[0m: \u001b[32m'jiya'\u001b[0m\n",
       "            \u001b[1m}\u001b[0m,\n",
       "            \u001b[1m{\u001b[0m\n",
       "                \u001b[32m'filename'\u001b[0m: \u001b[32m'NRG 304 LEC_ WEEK 2_CHAPTER 1 ASSESSMENT OF THE DIGESTIVE AND GASTROINTESTINAL \u001b[0m\n",
       "\u001b[32mFUNCTION.pdf'\u001b[0m,\n",
       "                \u001b[32m'heading'\u001b[0m: \u001b[32m'H. Manometry and Electrophysiologic Studies'\u001b[0m,\n",
       "                \u001b[32m'page_no'\u001b[0m: \u001b[1;36m4\u001b[0m,\n",
       "                \u001b[32m'user_id'\u001b[0m: \u001b[32m'jiya'\u001b[0m\n",
       "            \u001b[1m}\u001b[0m,\n",
       "            \u001b[1m{\u001b[0m\n",
       "                \u001b[32m'filename'\u001b[0m: \u001b[32m'NRG 304 LEC_ WEEK 2_CHAPTER 1 ASSESSMENT OF THE DIGESTIVE AND GASTROINTESTINAL \u001b[0m\n",
       "\u001b[32mFUNCTION.pdf'\u001b[0m,\n",
       "                \u001b[32m'heading'\u001b[0m: \u001b[32m'\u001b[0m\u001b[32m(\u001b[0m\u001b[32m3\u001b[0m\u001b[32m)\u001b[0m\u001b[32m Anoscopy, Proctoscopy, and Sigmoidoscopy'\u001b[0m,\n",
       "                \u001b[32m'page_no'\u001b[0m: \u001b[1;36m4\u001b[0m,\n",
       "                \u001b[32m'user_id'\u001b[0m: \u001b[32m'jiya'\u001b[0m\n",
       "            \u001b[1m}\u001b[0m,\n",
       "            \u001b[1m{\u001b[0m\n",
       "                \u001b[32m'filename'\u001b[0m: \u001b[32m'NRG 304 LEC_ WEEK 2_CHAPTER 1 ASSESSMENT OF THE DIGESTIVE AND GASTROINTESTINAL \u001b[0m\n",
       "\u001b[32mFUNCTION.pdf'\u001b[0m,\n",
       "                \u001b[32m'heading'\u001b[0m: \u001b[32m'\u001b[0m\u001b[32m(\u001b[0m\u001b[32m4\u001b[0m\u001b[32m)\u001b[0m\u001b[32m Small Bowel Studies'\u001b[0m,\n",
       "                \u001b[32m'page_no'\u001b[0m: \u001b[1;36m4\u001b[0m,\n",
       "                \u001b[32m'user_id'\u001b[0m: \u001b[32m'jiya'\u001b[0m\n",
       "            \u001b[1m}\u001b[0m\n",
       "        \u001b[1m]\u001b[0m\n",
       "    \u001b[1m]\u001b[0m,\n",
       "    \u001b[32m'documents'\u001b[0m: \u001b[1m[\u001b[0m\n",
       "        \u001b[1m[\u001b[0m\n",
       "            \u001b[32m'A. Stool Studies\\n● Basic Stool Exam\\n● Quantitative Study\\n● Fecal Occult Blood Testing\\n● Fecal \u001b[0m\n",
       "\u001b[32mImmunologic Testing \u001b[0m\u001b[32m(\u001b[0m\u001b[32mFIT\u001b[0m\u001b[32m)\u001b[0m\u001b[32m\\n● Stool DNA Testing'\u001b[0m,\n",
       "            \u001b[32m'5. Changes in Bowel Habits and Stool Characteristics\\na. Bulky  greasy,  foamy  stools  that  are  \u001b[0m\n",
       "\u001b[32mfoul  in  odor  and may or may not float.\\nb. Light-gray or clay-colored stool, caused by a decrease or absence of \u001b[0m\n",
       "\u001b[32mconjugated bilirubin.\\nc. Stool with mucus threads or pus that may be visible on gross inspection of the stool.\\nd.\u001b[0m\n",
       "\u001b[32mSmall,  dry,  rock-hard  masses  occasionally  streaked with blood.\\ne. Loose, watery stool that may or may not be \u001b[0m\n",
       "\u001b[32mstreaked with blood.'\u001b[0m,\n",
       "            \u001b[32m'H. Manometry and Electrophysiologic Studies\\n● Rectal  sensory  function  studies  are  used  to  \u001b[0m\n",
       "\u001b[32mevaluate  rectal sensory function and neuropathy.\\n● Esophageal manometry is used to detect motility disorders of \u001b[0m\n",
       "\u001b[32mthe esophagus and the upper and lower esophageal sphincter.\\n● Gastroduodenal, small intestine, and colonic \u001b[0m\n",
       "\u001b[32mmanometry procedures are used to evaluate delayed gastric emptying and gastric  and  intestinal  motility  \u001b[0m\n",
       "\u001b[32mdisorders  such  as  irritable  bowel syndrome or atonic colon.\\n● Electrogastrography,  an  electrophysiologic  \u001b[0m\n",
       "\u001b[32mstudy,  also  may  be performed  to  assess  gastric  motility  disturbances  and  can  be useful in detecting \u001b[0m\n",
       "\u001b[32mmotor or nerve dysfunction in the stomach.\\n● Defecography  measures  anorectal  function  and  is  performed with \u001b[0m\n",
       "\u001b[32mvery thick barium paste instilled into the rectum. Fluoroscopy is  used  to  assess  the function of the rectum and\u001b[0m\n",
       "\u001b[32manal sphincter while the patient attempts to expel the barrium.'\u001b[0m,\n",
       "            \u001b[32m'\u001b[0m\u001b[32m(\u001b[0m\u001b[32m3\u001b[0m\u001b[32m)\u001b[0m\u001b[32m Anoscopy, Proctoscopy, and Sigmoidoscopy\\n● Endoscopic  examination  of the anus, rectum, and \u001b[0m\n",
       "\u001b[32msigmoid and descending  colon  is  used  to  evaluate  chronic  diarrhea,  fecal incontinence, ischemic colitis, \u001b[0m\n",
       "\u001b[32mand lower GI hemorrhage and to observe for ulceration, fissures, abscesses, tumors, polyps, or other pathologic \u001b[0m\n",
       "\u001b[32mprocesses.'\u001b[0m,\n",
       "            \u001b[32m'\u001b[0m\u001b[32m(\u001b[0m\u001b[32m4\u001b[0m\u001b[32m)\u001b[0m\u001b[32m Small Bowel Studies\\n● Capsule  endoscopy  allows  the  noninvasive  visualization  of  the mucosa\u001b[0m\n",
       "\u001b[32mthroughout  the  entire  small  intestine.  It  is  particularly useful in the evaluation of obscure GI bleeding\\n●\u001b[0m\n",
       "\u001b[32mDouble-balloon enteroscopy has made it possible to visualize the mucosa of the entire small bowel as well as carry \u001b[0m\n",
       "\u001b[32mout diagnostic and therapeutic interventions'\u001b[0m\n",
       "        \u001b[1m]\u001b[0m\n",
       "    \u001b[1m]\u001b[0m,\n",
       "    \u001b[32m'uris'\u001b[0m: \u001b[3;35mNone\u001b[0m,\n",
       "    \u001b[32m'data'\u001b[0m: \u001b[3;35mNone\u001b[0m,\n",
       "    \u001b[32m'included'\u001b[0m: \u001b[1m[\u001b[0m\u001b[32m'distances'\u001b[0m, \u001b[32m'documents'\u001b[0m, \u001b[32m'metadatas'\u001b[0m\u001b[1m]\u001b[0m\n",
       "\u001b[1m}\u001b[0m\n"
      ]
     },
     "metadata": {},
     "output_type": "display_data"
    }
   ],
   "source": [
    "print(query_result)"
   ]
  },
  {
   "cell_type": "code",
   "execution_count": 197,
   "metadata": {},
   "outputs": [
    {
     "data": {
      "text/html": [
       "<pre style=\"white-space:pre;overflow-x:auto;line-height:normal;font-family:Menlo,'DejaVu Sans Mono',consolas,'Courier New',monospace\">A. Stool Studies\n",
       "● Basic Stool Exam\n",
       "● Quantitative Study\n",
       "● Fecal Occult Blood Testing\n",
       "● Fecal Immunologic Testing <span style=\"font-weight: bold\">(</span>FIT<span style=\"font-weight: bold\">)</span>\n",
       "● Stool DNA Testing\n",
       "</pre>\n"
      ],
      "text/plain": [
       "A. Stool Studies\n",
       "● Basic Stool Exam\n",
       "● Quantitative Study\n",
       "● Fecal Occult Blood Testing\n",
       "● Fecal Immunologic Testing \u001b[1m(\u001b[0mFIT\u001b[1m)\u001b[0m\n",
       "● Stool DNA Testing\n"
      ]
     },
     "metadata": {},
     "output_type": "display_data"
    },
    {
     "data": {
      "text/html": [
       "<pre style=\"white-space:pre;overflow-x:auto;line-height:normal;font-family:Menlo,'DejaVu Sans Mono',consolas,'Courier New',monospace\">Source: NRG <span style=\"color: #008080; text-decoration-color: #008080; font-weight: bold\">304</span> LEC_ WEEK 2_CHAPTER <span style=\"color: #008080; text-decoration-color: #008080; font-weight: bold\">1</span> ASSESSMENT OF THE DIGESTIVE AND GASTROINTESTINAL FUNCTION.pdf, Page: <span style=\"color: #008080; text-decoration-color: #008080; font-weight: bold\">2</span>\n",
       "</pre>\n"
      ],
      "text/plain": [
       "Source: NRG \u001b[1;36m304\u001b[0m LEC_ WEEK 2_CHAPTER \u001b[1;36m1\u001b[0m ASSESSMENT OF THE DIGESTIVE AND GASTROINTESTINAL FUNCTION.pdf, Page: \u001b[1;36m2\u001b[0m\n"
      ]
     },
     "metadata": {},
     "output_type": "display_data"
    },
    {
     "data": {
      "text/html": [
       "<pre style=\"white-space:pre;overflow-x:auto;line-height:normal;font-family:Menlo,'DejaVu Sans Mono',consolas,'Courier New',monospace\"><span style=\"color: #008080; text-decoration-color: #008080; font-weight: bold\">5</span>. Changes in Bowel Habits and Stool Characteristics\n",
       "a. Bulky  greasy,  foamy  stools  that  are  foul  in  odor  and may or may not float.\n",
       "b. Light-gray or clay-colored stool, caused by a decrease or absence of conjugated bilirubin.\n",
       "c. Stool with mucus threads or pus that may be visible on gross inspection of the stool.\n",
       "d. Small,  dry,  rock-hard  masses  occasionally  streaked with blood.\n",
       "e. Loose, watery stool that may or may not be streaked with blood.\n",
       "</pre>\n"
      ],
      "text/plain": [
       "\u001b[1;36m5\u001b[0m. Changes in Bowel Habits and Stool Characteristics\n",
       "a. Bulky  greasy,  foamy  stools  that  are  foul  in  odor  and may or may not float.\n",
       "b. Light-gray or clay-colored stool, caused by a decrease or absence of conjugated bilirubin.\n",
       "c. Stool with mucus threads or pus that may be visible on gross inspection of the stool.\n",
       "d. Small,  dry,  rock-hard  masses  occasionally  streaked with blood.\n",
       "e. Loose, watery stool that may or may not be streaked with blood.\n"
      ]
     },
     "metadata": {},
     "output_type": "display_data"
    },
    {
     "data": {
      "text/html": [
       "<pre style=\"white-space:pre;overflow-x:auto;line-height:normal;font-family:Menlo,'DejaVu Sans Mono',consolas,'Courier New',monospace\">Source: NRG <span style=\"color: #008080; text-decoration-color: #008080; font-weight: bold\">304</span> LEC_ WEEK 2_CHAPTER <span style=\"color: #008080; text-decoration-color: #008080; font-weight: bold\">1</span> ASSESSMENT OF THE DIGESTIVE AND GASTROINTESTINAL FUNCTION.pdf, Page: <span style=\"color: #008080; text-decoration-color: #008080; font-weight: bold\">1</span>\n",
       "</pre>\n"
      ],
      "text/plain": [
       "Source: NRG \u001b[1;36m304\u001b[0m LEC_ WEEK 2_CHAPTER \u001b[1;36m1\u001b[0m ASSESSMENT OF THE DIGESTIVE AND GASTROINTESTINAL FUNCTION.pdf, Page: \u001b[1;36m1\u001b[0m\n"
      ]
     },
     "metadata": {},
     "output_type": "display_data"
    },
    {
     "data": {
      "text/html": [
       "<pre style=\"white-space:pre;overflow-x:auto;line-height:normal;font-family:Menlo,'DejaVu Sans Mono',consolas,'Courier New',monospace\">H. Manometry and Electrophysiologic Studies\n",
       "● Rectal  sensory  function  studies  are  used  to  evaluate  rectal sensory function and neuropathy.\n",
       "● Esophageal manometry is used to detect motility disorders of the esophagus and the upper and lower esophageal \n",
       "sphincter.\n",
       "● Gastroduodenal, small intestine, and colonic manometry procedures are used to evaluate delayed gastric emptying \n",
       "and gastric  and  intestinal  motility  disorders  such  as  irritable  bowel syndrome or atonic colon.\n",
       "● Electrogastrography,  an  electrophysiologic  study,  also  may  be performed  to  assess  gastric  motility  \n",
       "disturbances  and  can  be useful in detecting motor or nerve dysfunction in the stomach.\n",
       "● Defecography  measures  anorectal  function  and  is  performed with very thick barium paste instilled into the \n",
       "rectum. Fluoroscopy is  used  to  assess  the function of the rectum and anal sphincter while the patient attempts \n",
       "to expel the barrium.\n",
       "</pre>\n"
      ],
      "text/plain": [
       "H. Manometry and Electrophysiologic Studies\n",
       "● Rectal  sensory  function  studies  are  used  to  evaluate  rectal sensory function and neuropathy.\n",
       "● Esophageal manometry is used to detect motility disorders of the esophagus and the upper and lower esophageal \n",
       "sphincter.\n",
       "● Gastroduodenal, small intestine, and colonic manometry procedures are used to evaluate delayed gastric emptying \n",
       "and gastric  and  intestinal  motility  disorders  such  as  irritable  bowel syndrome or atonic colon.\n",
       "● Electrogastrography,  an  electrophysiologic  study,  also  may  be performed  to  assess  gastric  motility  \n",
       "disturbances  and  can  be useful in detecting motor or nerve dysfunction in the stomach.\n",
       "● Defecography  measures  anorectal  function  and  is  performed with very thick barium paste instilled into the \n",
       "rectum. Fluoroscopy is  used  to  assess  the function of the rectum and anal sphincter while the patient attempts \n",
       "to expel the barrium.\n"
      ]
     },
     "metadata": {},
     "output_type": "display_data"
    },
    {
     "data": {
      "text/html": [
       "<pre style=\"white-space:pre;overflow-x:auto;line-height:normal;font-family:Menlo,'DejaVu Sans Mono',consolas,'Courier New',monospace\">Source: NRG <span style=\"color: #008080; text-decoration-color: #008080; font-weight: bold\">304</span> LEC_ WEEK 2_CHAPTER <span style=\"color: #008080; text-decoration-color: #008080; font-weight: bold\">1</span> ASSESSMENT OF THE DIGESTIVE AND GASTROINTESTINAL FUNCTION.pdf, Page: <span style=\"color: #008080; text-decoration-color: #008080; font-weight: bold\">4</span>\n",
       "</pre>\n"
      ],
      "text/plain": [
       "Source: NRG \u001b[1;36m304\u001b[0m LEC_ WEEK 2_CHAPTER \u001b[1;36m1\u001b[0m ASSESSMENT OF THE DIGESTIVE AND GASTROINTESTINAL FUNCTION.pdf, Page: \u001b[1;36m4\u001b[0m\n"
      ]
     },
     "metadata": {},
     "output_type": "display_data"
    },
    {
     "data": {
      "text/html": [
       "<pre style=\"white-space:pre;overflow-x:auto;line-height:normal;font-family:Menlo,'DejaVu Sans Mono',consolas,'Courier New',monospace\"><span style=\"font-weight: bold\">(</span><span style=\"color: #008080; text-decoration-color: #008080; font-weight: bold\">3</span><span style=\"font-weight: bold\">)</span> Anoscopy, Proctoscopy, and Sigmoidoscopy\n",
       "● Endoscopic  examination  of the anus, rectum, and sigmoid and descending  colon  is  used  to  evaluate  chronic \n",
       "diarrhea,  fecal incontinence, ischemic colitis, and lower GI hemorrhage and to observe for ulceration, fissures, \n",
       "abscesses, tumors, polyps, or other pathologic processes.\n",
       "</pre>\n"
      ],
      "text/plain": [
       "\u001b[1m(\u001b[0m\u001b[1;36m3\u001b[0m\u001b[1m)\u001b[0m Anoscopy, Proctoscopy, and Sigmoidoscopy\n",
       "● Endoscopic  examination  of the anus, rectum, and sigmoid and descending  colon  is  used  to  evaluate  chronic \n",
       "diarrhea,  fecal incontinence, ischemic colitis, and lower GI hemorrhage and to observe for ulceration, fissures, \n",
       "abscesses, tumors, polyps, or other pathologic processes.\n"
      ]
     },
     "metadata": {},
     "output_type": "display_data"
    },
    {
     "data": {
      "text/html": [
       "<pre style=\"white-space:pre;overflow-x:auto;line-height:normal;font-family:Menlo,'DejaVu Sans Mono',consolas,'Courier New',monospace\">Source: NRG <span style=\"color: #008080; text-decoration-color: #008080; font-weight: bold\">304</span> LEC_ WEEK 2_CHAPTER <span style=\"color: #008080; text-decoration-color: #008080; font-weight: bold\">1</span> ASSESSMENT OF THE DIGESTIVE AND GASTROINTESTINAL FUNCTION.pdf, Page: <span style=\"color: #008080; text-decoration-color: #008080; font-weight: bold\">4</span>\n",
       "</pre>\n"
      ],
      "text/plain": [
       "Source: NRG \u001b[1;36m304\u001b[0m LEC_ WEEK 2_CHAPTER \u001b[1;36m1\u001b[0m ASSESSMENT OF THE DIGESTIVE AND GASTROINTESTINAL FUNCTION.pdf, Page: \u001b[1;36m4\u001b[0m\n"
      ]
     },
     "metadata": {},
     "output_type": "display_data"
    },
    {
     "data": {
      "text/html": [
       "<pre style=\"white-space:pre;overflow-x:auto;line-height:normal;font-family:Menlo,'DejaVu Sans Mono',consolas,'Courier New',monospace\"><span style=\"font-weight: bold\">(</span><span style=\"color: #008080; text-decoration-color: #008080; font-weight: bold\">4</span><span style=\"font-weight: bold\">)</span> Small Bowel Studies\n",
       "● Capsule  endoscopy  allows  the  noninvasive  visualization  of  the mucosa  throughout  the  entire  small  \n",
       "intestine.  It  is  particularly useful in the evaluation of obscure GI bleeding\n",
       "● Double-balloon enteroscopy has made it possible to visualize the mucosa of the entire small bowel as well as \n",
       "carry out diagnostic and therapeutic interventions\n",
       "</pre>\n"
      ],
      "text/plain": [
       "\u001b[1m(\u001b[0m\u001b[1;36m4\u001b[0m\u001b[1m)\u001b[0m Small Bowel Studies\n",
       "● Capsule  endoscopy  allows  the  noninvasive  visualization  of  the mucosa  throughout  the  entire  small  \n",
       "intestine.  It  is  particularly useful in the evaluation of obscure GI bleeding\n",
       "● Double-balloon enteroscopy has made it possible to visualize the mucosa of the entire small bowel as well as \n",
       "carry out diagnostic and therapeutic interventions\n"
      ]
     },
     "metadata": {},
     "output_type": "display_data"
    },
    {
     "data": {
      "text/html": [
       "<pre style=\"white-space:pre;overflow-x:auto;line-height:normal;font-family:Menlo,'DejaVu Sans Mono',consolas,'Courier New',monospace\">Source: NRG <span style=\"color: #008080; text-decoration-color: #008080; font-weight: bold\">304</span> LEC_ WEEK 2_CHAPTER <span style=\"color: #008080; text-decoration-color: #008080; font-weight: bold\">1</span> ASSESSMENT OF THE DIGESTIVE AND GASTROINTESTINAL FUNCTION.pdf, Page: <span style=\"color: #008080; text-decoration-color: #008080; font-weight: bold\">4</span>\n",
       "</pre>\n"
      ],
      "text/plain": [
       "Source: NRG \u001b[1;36m304\u001b[0m LEC_ WEEK 2_CHAPTER \u001b[1;36m1\u001b[0m ASSESSMENT OF THE DIGESTIVE AND GASTROINTESTINAL FUNCTION.pdf, Page: \u001b[1;36m4\u001b[0m\n"
      ]
     },
     "metadata": {},
     "output_type": "display_data"
    }
   ],
   "source": [
    "documents = query_result[\"documents\"][0]\n",
    "metadatas = query_result[\"metadatas\"][0]\n",
    "\n",
    "for doc, metadata in zip(documents, metadatas):\n",
    "\tprint(doc)\n",
    "\tprint(f\"Source: {metadata['filename']}, Page: {metadata['page_no']}\")"
   ]
  },
  {
   "cell_type": "markdown",
   "metadata": {},
   "source": [
    "#### Response augmenting with deepseek r1"
   ]
  },
  {
   "cell_type": "markdown",
   "metadata": {},
   "source": [
    "### Stage 2: Agentic RAG System\n",
    "\n",
    "The **Agentic Layer** adds an intelligent routing mechanism to the RAG system. Instead of simply retrieving data from a static source, the system will decide where to get the most relevant information based on the context of the query and whether the query pertains to the nursing handbooks or her personal study notes.\n",
    "\n",
    "#### Steps:\n",
    "\n",
    "0. **Incorporate Personal Study Notes (Transes)**:\n",
    "   - Personal study notes (transes) are documents or annotations written by the user, capturing key insights, case studies, or specific experiences.\n",
    "   - These notes will be embedded in the same way as the nursing handbooks and stored in the same vector database.\n",
    "\n",
    "1. **Agent Routes the Query**:\n",
    "   - When a user (nursing student) asks a question, the **agent** will decide whether to retrieve data from the nursing handbooks or her personal study notes.\n",
    "   - The agent will consider:\n",
    "     - The **context** of the question (general knowledge vs. personalized experiences).\n",
    "     - Whether her **personal study notes** are more relevant (e.g., if she’s already written notes on a particular case or condition).\n",
    "     - If the query is general, the agent will prioritize retrieving information from the **nursing handbooks**.\n",
    "\n",
    "2. **Retrieve from Both Sources**:\n",
    "   - The system retrieves information from both the **nursing handbooks** and **personal study notes** based on the agent’s decision.\n",
    "   - If the question pertains to something she has written down in her personal notes, the agent will prioritize retrieving those, combining them with general knowledge from the handbooks.\n",
    "\n",
    "3. **Augment Response Using Deepseek LLM**:\n",
    "   - The retrieved content from both sources is fed to the **Deepseek LLM**, which will merge the insights and generate a complete response.\n",
    "   - The LLM will ensure the answer is not only accurate but also personalized based on the notes, making it more useful and contextually rich.\n"
   ]
  }
 ],
 "metadata": {
  "kernelspec": {
   "display_name": ".venv",
   "language": "python",
   "name": "python3"
  },
  "language_info": {
   "codemirror_mode": {
    "name": "ipython",
    "version": 3
   },
   "file_extension": ".py",
   "mimetype": "text/x-python",
   "name": "python",
   "nbconvert_exporter": "python",
   "pygments_lexer": "ipython3",
   "version": "3.12.3"
  }
 },
 "nbformat": 4,
 "nbformat_minor": 2
}
